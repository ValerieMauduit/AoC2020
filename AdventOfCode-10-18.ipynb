{
 "cells": [
  {
   "cell_type": "code",
   "execution_count": 1,
   "metadata": {},
   "outputs": [],
   "source": [
    "import time\n",
    "import pandas as pd"
   ]
  },
  {
   "cell_type": "markdown",
   "metadata": {},
   "source": [
    "## --- Day 10: Adapter Array ---\n",
    "Patched into the aircraft's data port, you discover weather forecasts of a massive tropical storm. Before you can figure out whether it will impact your vacation plans, however, your device suddenly turns off!\n",
    "\n",
    "Its battery is dead.\n",
    "\n",
    "You'll need to plug it in. There's only one problem: the charging outlet near your seat produces the wrong number of jolts. Always prepared, you make a list of all of the joltage adapters in your bag.\n",
    "\n",
    "Each of your joltage adapters is rated for a specific output joltage (your puzzle input). Any given adapter can take **an input 1, 2, or 3 jolts lower** than its rating and still produce its rated output joltage.\n",
    "\n",
    "In addition, your device has a built-in joltage adapter rated for **3 jolts higher than the highest-rated **adapter in your bag. (If your adapter list were 3, 9, and 6, your device's built-in adapter would be rated for 12 jolts.)\n",
    "\n",
    "Treat the charging outlet near your seat as having an effective joltage rating of 0.\n",
    "\n",
    "Since you have some time to kill, you might as well test all of your adapters. Wouldn't want to get to your resort and realize you can't even charge your device!\n",
    "\n",
    "If you use every adapter in your bag at once, what is the distribution of joltage differences between the charging outlet, the adapters, and your device?\n",
    "\n",
    "Find a chain that uses all of your adapters to connect the charging outlet to your device's built-in adapter and count the joltage differences between the charging outlet, the adapters, and your device. **What is the number of 1-jolt differences multiplied by the number of 3-jolt differences?**"
   ]
  },
  {
   "cell_type": "code",
   "execution_count": 2,
   "metadata": {},
   "outputs": [
    {
     "name": "stdout",
     "output_type": "stream",
     "text": [
      "1856\n",
      "Spent time: 0.001 s\n"
     ]
    }
   ],
   "source": [
    "start_time = time.time()\n",
    "\n",
    "with open('input-files/input-day10.txt', 'r') as fic:\n",
    "    jolters = [int(x) for x in fic.read().splitlines()]\n",
    "\n",
    "jolters.sort()\n",
    "jolters = [0] + jolters + [jolters[-1] + 3]\n",
    "\n",
    "gaps = [jolters[n + 1] - jolters[n] for n in range(len(jolters) - 1)]\n",
    "\n",
    "gap1 = sum([gap == 1 for gap in gaps])\n",
    "gap3 = sum([gap == 3 for gap in gaps])\n",
    "\n",
    "print(gap1 * gap3)\n",
    "\n",
    "spent_time = time.time() - start_time\n",
    "print(f'Spent time: {spent_time:.3f} s')"
   ]
  },
  {
   "cell_type": "markdown",
   "metadata": {},
   "source": [
    "### --- Part Two ---\n",
    "To completely determine whether you have enough adapters, you'll need to figure out how many different ways they can be arranged. Every arrangement needs to connect the charging outlet to your device. The previous rules about when adapters can successfully connect still apply.\n",
    "\n",
    "The first example above (the one that starts with 16, 10, 15) supports the following arrangements:\n",
    "\n",
    "* (0), 1, 4, 5, 6, 7, 10, 11, 12, 15, 16, 19, (22)\n",
    "* (0), 1, 4, 5, 6, 7, 10, 12, 15, 16, 19, (22)\n",
    "* (0), 1, 4, 5, 7, 10, 11, 12, 15, 16, 19, (22)\n",
    "* (0), 1, 4, 5, 7, 10, 12, 15, 16, 19, (22)\n",
    "* (0), 1, 4, 6, 7, 10, 11, 12, 15, 16, 19, (22)\n",
    "* (0), 1, 4, 6, 7, 10, 12, 15, 16, 19, (22)\n",
    "* (0), 1, 4, 7, 10, 11, 12, 15, 16, 19, (22)\n",
    "* (0), 1, 4, 7, 10, 12, 15, 16, 19, (22)\n",
    "\n",
    "(The charging outlet and your device's built-in adapter are shown in parentheses.) Given the adapters from the first example, the total number of arrangements that connect the charging outlet to your device is 8.\n",
    "\n",
    "What is **the total number of distinct ways you can arrange** the adapters to connect the charging outlet to your device?"
   ]
  },
  {
   "cell_type": "code",
   "execution_count": 3,
   "metadata": {},
   "outputs": [],
   "source": [
    "def nb_possibilities(chain):\n",
    "    if len(chain) < 2:\n",
    "        return 1\n",
    "    elif len(chain) == 2:\n",
    "        if chain[1] - chain[0] <= 3:\n",
    "            return 1\n",
    "        return 0\n",
    "    else:\n",
    "        if chain[1] - chain[0] <= 3:\n",
    "            return nb_possibilities(chain[1:]) + nb_possibilities([chain[0]] + chain[2:])\n",
    "        return 0"
   ]
  },
  {
   "cell_type": "code",
   "execution_count": 4,
   "metadata": {},
   "outputs": [
    {
     "name": "stdout",
     "output_type": "stream",
     "text": [
      "2314037239808\n",
      "Spent time: 0.021 s\n"
     ]
    }
   ],
   "source": [
    "start_time = time.time()\n",
    "\n",
    "large_gaps = [n for n in range(len(gaps)) if gaps[n] == 3]\n",
    "by = 6\n",
    "n = by\n",
    "total_possibilities = nb_possibilities(jolters[:(large_gaps[n] + 1)])\n",
    "while n < (len(large_gaps) - by):\n",
    "    total_possibilities *= nb_possibilities(jolters[large_gaps[n]:(large_gaps[n + by] + 1)])\n",
    "    n += by\n",
    "total_possibilities *= nb_possibilities(jolters[large_gaps[n]:])\n",
    "\n",
    "print(total_possibilities)\n",
    "\n",
    "spent_time = time.time() - start_time\n",
    "print(f'Spent time: {spent_time:.3f} s')"
   ]
  },
  {
   "cell_type": "markdown",
   "metadata": {},
   "source": [
    "## --- Day 11: Seating System ---\n",
    "Your plane lands with plenty of time to spare. The final leg of your journey is a ferry that goes directly to the tropical island where you can finally start your vacation. As you reach the waiting area to board the ferry, you realize you're so early, nobody else has even arrived yet!\n",
    "\n",
    "By modeling the process people use to choose (or abandon) their seat in the waiting area, you're pretty sure you can predict the best place to sit. You make a quick map of the seat layout (your puzzle input).\n",
    "\n",
    "The seat layout fits neatly on a grid. Each position is either **floor (.)**, an **empty seat (L)**, or an **occupied seat (#)**. For example, the initial seat layout might look like this:\n",
    "\n",
    "Now, you just need to model the people who will be arriving shortly. Fortunately, people are entirely predictable and always follow a simple set of rules. All decisions are based on the **number of occupied seats adjacent to a given sea**t (one of the eight positions immediately up, down, left, right, or diagonal from the seat). The following rules are **applied to every seat simultaneously**:\n",
    "\n",
    "* If a seat is **empty (L)** and there are **no occupied seats adjacent to it**, the seat becomes occupied.\n",
    "* If a seat is **occupied (#)** and **four or more seats adjacent to it are also occupied**, the seat becomes empty.\n",
    "* Otherwise, the seat's state does not change.\n",
    "* Floor (.) never changes; seats don't move, and nobody sits on the floor.\n",
    "\n",
    "Simulate your seating area by applying the seating rules repeatedly **until no seats change state**. How many seats end up occupied?"
   ]
  },
  {
   "cell_type": "code",
   "execution_count": 5,
   "metadata": {},
   "outputs": [],
   "source": [
    "def visibles(area, lig, col):\n",
    "    return (\n",
    "        area[lig - 1][(col - 1):(col + 2)] + \n",
    "        area[lig][col - 1] + area[lig][col + 1] + \n",
    "        area[lig + 1][(col - 1):(col + 2)]\n",
    "    )"
   ]
  },
  {
   "cell_type": "code",
   "execution_count": 6,
   "metadata": {},
   "outputs": [],
   "source": [
    "def remplace(text, position, by):\n",
    "    tempo = list(text)\n",
    "    tempo[position] = by\n",
    "    return ''.join(tempo)"
   ]
  },
  {
   "cell_type": "code",
   "execution_count": 7,
   "metadata": {},
   "outputs": [],
   "source": [
    "def next_step(area, tolerance):\n",
    "    ligs = len(area)\n",
    "    cols = len(area[0])\n",
    "    borded = ['.' * (cols + 2)] + ['.' + x + '.' for x in area] + ['.' * (cols + 2)]\n",
    "    new = borded.copy()\n",
    "    for lig in range(1, ligs + 1):\n",
    "        for col in range(1, cols + 1):\n",
    "            if borded[lig][col] == 'L':\n",
    "                borders = visibles(borded, lig, col)\n",
    "                if ('#' not in borders):\n",
    "                    new[lig] = remplace(new[lig], col, '#')\n",
    "            elif borded[lig][col] == '#':\n",
    "                borders = visibles(borded, lig, col)\n",
    "                if (borders.count('#') >= tolerance):\n",
    "                    new[lig] = remplace(new[lig], col, 'L')\n",
    "    return [x[1:-1] for x in new[1:-1]]"
   ]
  },
  {
   "cell_type": "code",
   "execution_count": 8,
   "metadata": {},
   "outputs": [
    {
     "name": "stdout",
     "output_type": "stream",
     "text": [
      "2277\n",
      "Spent time: 0.640 s\n"
     ]
    }
   ],
   "source": [
    "start_time = time.time()\n",
    "\n",
    "with open('input-files/input-day11.txt', 'r') as fic:\n",
    "    area = fic.read().splitlines()\n",
    "\n",
    "previous = ['.' * len(x) for x in area]\n",
    "new = area\n",
    "while previous != new:\n",
    "    previous = new\n",
    "    new = next_step(previous, 4)\n",
    "\n",
    "print(sum([x.count('#') for x in new]))\n",
    "\n",
    "spent_time = time.time() - start_time\n",
    "print(f'Spent time: {spent_time:.3f} s')"
   ]
  },
  {
   "cell_type": "markdown",
   "metadata": {},
   "source": [
    "### --- Part Two ---\n",
    "As soon as people start to arrive, you realize your mistake. People don't just care about adjacent seats - they care about the first seat they can see in each of those eight directions!\n",
    "\n",
    "Now, instead of considering just the eight immediately adjacent seats, consider **the first seat in each of those eight directions**. \n",
    "\n",
    "Also, people seem to be more tolerant than you expected: it now takes **five or more visible occupied seats for an occupied seat to become empty** (rather than four or more from the previous rules). The **other rules still apply**: empty seats that see no occupied seats become occupied, seats matching no rule don't change, and floor never changes.\n",
    "\n",
    "Given the new visibility method and the rule change for occupied seats becoming empty, once equilibrium is reached, how many seats end up occupied?"
   ]
  },
  {
   "cell_type": "code",
   "execution_count": 9,
   "metadata": {},
   "outputs": [],
   "source": [
    "def visibles(area, lig, col):\n",
    "    ligs = len(area)\n",
    "    cols = len(area[0])\n",
    "    seen = ''\n",
    "    for NS in range(-1, 2):\n",
    "        lenV = int((1 - ligs) / 2 * NS * NS + (ligs / 2 - lig - 1/2) * NS + ligs)\n",
    "        for WE in range(-1, 2):\n",
    "            lenH = int((1 - cols) / 2 * WE * WE + (cols / 2 - col - 1/2) * WE + cols)\n",
    "            if (NS != 0) | (WE != 0):\n",
    "                n = 1\n",
    "                neighbour = '.'\n",
    "                while (n < min(lenV, lenH)) & (neighbour == '.'):\n",
    "                    neighbour = area[lig + NS * n][col + WE * n]\n",
    "                    n += 1\n",
    "                seen += neighbour\n",
    "    return seen"
   ]
  },
  {
   "cell_type": "code",
   "execution_count": 10,
   "metadata": {},
   "outputs": [
    {
     "name": "stdout",
     "output_type": "stream",
     "text": [
      "2066\n",
      "Spent time: 8.275 s\n"
     ]
    }
   ],
   "source": [
    "start_time = time.time()\n",
    "\n",
    "previous = ['.' * len(x) for x in area]\n",
    "new = area\n",
    "while previous != new:\n",
    "    previous = new\n",
    "    new = next_step(previous, 5)\n",
    "\n",
    "print(sum([x.count('#') for x in new]))\n",
    "\n",
    "spent_time = time.time() - start_time\n",
    "print(f'Spent time: {spent_time:.3f} s')"
   ]
  },
  {
   "cell_type": "markdown",
   "metadata": {},
   "source": [
    "## --- Day 12: Rain Risk ---\n",
    "Your ferry made decent progress toward the island, but the storm came in faster than anyone expected. The ferry needs to take evasive actions!\n",
    "\n",
    "Unfortunately, the ship's navigation computer seems to be malfunctioning; rather than giving a route directly to safety, it produced extremely circuitous instructions. When the captain uses the PA system to ask if anyone can help, you quickly volunteer.\n",
    "\n",
    "The navigation instructions (your puzzle input) consists of a sequence of single-character actions paired with integer input values. After staring at them for a few minutes, you work out what they probably mean:\n",
    "\n",
    "* Action N means **to move north** by the given value.\n",
    "* Action S means **to move south** by the given value.\n",
    "* Action E means **to move east** by the given value.\n",
    "* Action W means **to move west** by the given value.\n",
    "* Action L means **to turn left** the given number of degrees.\n",
    "* Action R means **to turn right** the given number of degrees.\n",
    "* Action F means **to move forward** by the given value in the direction the ship is currently facing.\n",
    "\n",
    "Figure out where the navigation instructions lead. What is the Manhattan distance between that location and the ship's starting position?"
   ]
  },
  {
   "cell_type": "code",
   "execution_count": 11,
   "metadata": {},
   "outputs": [],
   "source": [
    "def action(ship, instruction):\n",
    "    if instruction.startswith('N'):\n",
    "        ship['NS'] += int(instruction[1:])\n",
    "    elif instruction.startswith('S'):\n",
    "        ship['NS'] -= int(instruction[1:])\n",
    "    elif instruction.startswith('E'):\n",
    "        ship['WE'] += int(instruction[1:])\n",
    "    elif instruction.startswith('W'):\n",
    "        ship['WE'] -= int(instruction[1:])\n",
    "    elif instruction.startswith('F'):\n",
    "        ship = action(ship, ship['facing'] + instruction[1:])\n",
    "    elif instruction.startswith('R'):\n",
    "        right_turn = 'ESWNESWN'\n",
    "        ship['facing'] = right_turn[right_turn.find(ship['facing']) + int(int(instruction[1:]) / 90)]\n",
    "    elif instruction.startswith('L'):\n",
    "        left_turn = 'ENWSENWS'\n",
    "        ship['facing'] = left_turn[left_turn.find(ship['facing']) + int(int(instruction[1:]) / 90)]\n",
    "    return ship"
   ]
  },
  {
   "cell_type": "code",
   "execution_count": 12,
   "metadata": {},
   "outputs": [
    {
     "name": "stdout",
     "output_type": "stream",
     "text": [
      "796\n",
      "Spent time: 0.001 s\n"
     ]
    }
   ],
   "source": [
    "start_time = time.time()\n",
    "\n",
    "with open('input-files/input-day12.txt', 'r') as fic:\n",
    "    instructions = fic.read().rstrip('\\n').split('\\n')\n",
    "    instructions\n",
    "\n",
    "ship = {'NS': 0, 'WE': 0, 'facing': 'E'}\n",
    "for instruction in instructions:\n",
    "    ship = action(ship, instruction)\n",
    "\n",
    "print(abs(ship['NS']) + abs(ship['WE']))\n",
    "\n",
    "spent_time = time.time() - start_time\n",
    "print(f'Spent time: {spent_time:.3f} s')"
   ]
  },
  {
   "cell_type": "markdown",
   "metadata": {},
   "source": [
    "### --- Part Two ---\n",
    "Before you can give the destination to the captain, you realize that the actual action meanings were printed on the back of the instructions the whole time.\n",
    "\n",
    "Almost all of the actions indicate how to **move a waypoint which is relative to the ship's position**:\n",
    "\n",
    "* Action N means to move the waypoint north by the given value.\n",
    "* Action S means to move the waypoint south by the given value.\n",
    "* Action E means to move the waypoint east by the given value.\n",
    "* Action W means to move the waypoint west by the given value.\n",
    "* Action L means to rotate the waypoint around the ship left (counter-clockwise) the given number of degrees.\n",
    "* Action R means to rotate the waypoint around the ship right (clockwise) the given number of degrees.\n",
    "* Action F means **to move forward to the waypoint** a number of times equal to the given value.\n",
    "\n",
    "The **waypoint starts 10 units east and 1 unit north** relative to the ship. The waypoint is relative to the ship; that is, if the ship moves, the waypoint moves with it.\n",
    "\n",
    "Figure out where the navigation instructions actually lead. What is the Manhattan distance between that location and the ship's starting position?"
   ]
  },
  {
   "cell_type": "code",
   "execution_count": 13,
   "metadata": {},
   "outputs": [],
   "source": [
    "def ship_action(ship, waypoint, instruction):\n",
    "    if instruction.startswith('F'):\n",
    "        ship['NS'] += waypoint['NS'] * int(instruction[1:])\n",
    "        ship['WE'] += waypoint['WE'] * int(instruction[1:])\n",
    "    return ship"
   ]
  },
  {
   "cell_type": "code",
   "execution_count": 14,
   "metadata": {},
   "outputs": [],
   "source": [
    "def waypoint_action(waypoint, instruction):\n",
    "    if instruction.startswith('N'):\n",
    "        waypoint['NS'] += int(instruction[1:])\n",
    "    elif instruction.startswith('S'):\n",
    "        waypoint['NS'] -= int(instruction[1:])\n",
    "    elif instruction.startswith('E'):\n",
    "        waypoint['WE'] += int(instruction[1:])\n",
    "    elif instruction.startswith('W'):\n",
    "        waypoint['WE'] -= int(instruction[1:])\n",
    "    elif instruction.startswith('R') | instruction.startswith('L'):\n",
    "        if instruction.startswith('R'):\n",
    "            turn = 1\n",
    "        else:\n",
    "            turn = - 1\n",
    "        for n in range(int(int(instruction[1:]) / 90)):\n",
    "            waypoint['WE'], waypoint['NS'] = turn * waypoint['NS'], - turn * waypoint['WE']\n",
    "    return waypoint"
   ]
  },
  {
   "cell_type": "code",
   "execution_count": 15,
   "metadata": {},
   "outputs": [
    {
     "name": "stdout",
     "output_type": "stream",
     "text": [
      "{'NS': -15029, 'WE': -24417}\n",
      "39446\n",
      "Spent time: 0.002 s\n"
     ]
    }
   ],
   "source": [
    "start_time = time.time()\n",
    "\n",
    "ship = {'NS': 0, 'WE': 0}\n",
    "waypoint = {'NS': 1, 'WE': 10}\n",
    "for instruction in instructions:\n",
    "    ship = ship_action(ship, waypoint, instruction)\n",
    "    waypoint = waypoint_action(waypoint, instruction)\n",
    "\n",
    "print(ship)\n",
    "\n",
    "print(abs(ship['NS']) + abs(ship['WE']))\n",
    "\n",
    "spent_time = time.time() - start_time\n",
    "print(f'Spent time: {spent_time:.3f} s')"
   ]
  },
  {
   "cell_type": "markdown",
   "metadata": {},
   "source": [
    "## --- Day 13: Shuttle Search ---\n",
    "Your ferry can make it safely to a nearby port, but it won't get much further. When you call to book another ship, you discover that no ships embark from that port to your vacation island. You'll need to get from the port to the nearest airport.\n",
    "\n",
    "Fortunately, a shuttle bus service is available to bring you from the sea port to the airport! **Each bus has an ID number that also indicates how often the bus leaves for the airport**.\n",
    "\n",
    "Bus schedules are defined based on a timestamp that measures the number of minutes since some fixed reference point in the past. **At timestamp 0, every bus simultaneously departed from the sea port**. After that, each bus travels to the airport, then various other locations, and finally returns to the sea port to repeat its journey forever.\n",
    "\n",
    "Your notes (your puzzle input) consist of two lines. \n",
    "* The first line is your **estimate of the earliest timestamp you could depart on a bus**. \n",
    "* The second line lists **the bus IDs that are in service** according to the shuttle company; entries that show **x must be out of service**, so you decide to ignore them.\n",
    "\n",
    "To save time once you arrive, your goal is to figure out the earliest bus you can take to the airport. (There will be exactly one such bus.)\n",
    "\n",
    "\n",
    "What is the **ID of the earliest bus you can take to the airport multiplied by the number of minutes you'll need to wait** for that bus?"
   ]
  },
  {
   "cell_type": "code",
   "execution_count": 16,
   "metadata": {},
   "outputs": [
    {
     "name": "stdout",
     "output_type": "stream",
     "text": [
      "4207\n",
      "Spent time: 0.001 s\n"
     ]
    }
   ],
   "source": [
    "start_time = time.time()\n",
    "\n",
    "with open('input-files/input-day13.txt', 'r') as fic:\n",
    "    flyer = fic.read().rstrip('\\n').split('\\n')\n",
    "\n",
    "arrival = int(flyer[0])\n",
    "buses = [int(x) for x in flyer[1].split(',') if x != 'x']\n",
    "\n",
    "schedule = (0, max(buses) + 1)\n",
    "for bus in buses:\n",
    "    waiting_time = (arrival // bus + 1) * bus - arrival\n",
    "#     print(f'Bus {bus}, attente {waiting_time}')\n",
    "    if waiting_time < schedule[1]:\n",
    "        schedule = (bus, waiting_time)\n",
    "\n",
    "print(schedule[0] * schedule[1])\n",
    "\n",
    "spent_time = time.time() - start_time\n",
    "print(f'Spent time: {spent_time:.3f} s')"
   ]
  },
  {
   "cell_type": "markdown",
   "metadata": {},
   "source": [
    "### --- Part Two ---\n",
    "The shuttle company is running a contest: one gold coin for anyone that can find the **earliest timestamp** such that the **first bus ID departs at that time** and **each subsequent listed bus ID departs at that subsequent minute** (position in the list). (The first line in your input is no longer relevant.)\n",
    "\n",
    "What is the earliest timestamp such that all of the listed bus IDs depart at offsets matching their positions in the list?"
   ]
  },
  {
   "cell_type": "code",
   "execution_count": 17,
   "metadata": {
    "scrolled": true
   },
   "outputs": [],
   "source": [
    "def prochain_depart(buses, offsets):\n",
    "    departure = buses[0] - offsets[0]\n",
    "    nb = len(buses)\n",
    "    go_on = True\n",
    "    while go_on: # à chaque boucle on tente une nouvelle heure de départ\n",
    "        b = 0 # position dans la liste des bus (et des offsets)\n",
    "        possible = True\n",
    "        while (b < nb) & possible: # on se fait tous les bus tant que l'horaire est compatible avec eux\n",
    "            attente = (buses[b] - departure % buses[b]) % buses[b]\n",
    "            if attente != offsets[b]:\n",
    "                possible = False\n",
    "                departure += buses[0]\n",
    "            else:\n",
    "                b += 1\n",
    "        if b == nb: # si on a fait tous les bus, c'est qu'ils sont tous compatibles, on arrête\n",
    "            go_on = False\n",
    "    return departure"
   ]
  },
  {
   "cell_type": "code",
   "execution_count": 18,
   "metadata": {},
   "outputs": [
    {
     "name": "stdout",
     "output_type": "stream",
     "text": [
      "Next in minutes: 725850285300475\n",
      "  which is, in years: 1380048455\n",
      "Spent time: 0.001 s\n"
     ]
    }
   ],
   "source": [
    "start_time = time.time()\n",
    "\n",
    "buses_list = flyer[1].split(',')\n",
    "buses = [int(x) for x in buses_list if x != 'x']\n",
    "offsets = [(n % int(buses_list[n])) for n in range(len(buses_list)) if buses_list[n] != 'x']\n",
    "\n",
    "while len(buses) > 2:\n",
    "    depart = prochain_depart(buses[:2], offsets[:2])\n",
    "    fake_bus = buses[0] * buses[1]\n",
    "    fake_offset = fake_bus - prochain_depart(buses[:2], offsets[:2])\n",
    "    buses = [fake_bus] + buses[2:]\n",
    "    offsets = [fake_offset] + offsets[2:]\n",
    "print(f'Next in minutes: {prochain_depart(buses, offsets)}')\n",
    "print(f'  which is, in years: {prochain_depart(buses, offsets) / 60 / 24 / 365.25:0.0f}')\n",
    "\n",
    "spent_time = time.time() - start_time\n",
    "print(f'Spent time: {spent_time:.3f} s')"
   ]
  },
  {
   "cell_type": "markdown",
   "metadata": {},
   "source": [
    "## --- Day 14: Docking Data ---\n",
    "As your ferry approaches the sea port, the captain asks for your help again. The computer system that runs this port isn't compatible with the docking program on the ferry, so the docking parameters aren't being correctly initialized in the docking program's memory.\n",
    "\n",
    "After a brief inspection, you discover that the sea port's computer system uses a strange bitmask system in its initialization program. Although you don't have the correct decoder chip handy, you can emulate it in software!\n",
    "\n",
    "The initialization program (your puzzle input) can either **update the bitmask** or **write a value to memory**. Values and memory addresses are both 36-bit unsigned integers. For example, ignoring bitmasks for a moment, a line like **mem[8] = 11 would write the value 11 to memory address 8**.\n",
    "\n",
    "The bitmask is always given as a string of 36 bits, written with the most significant bit (representing 2^35) on the left and the least significant bit (2^0, that is, the 1s bit) on the right. The current bitmask is applied to values immediately before they are written to memory: a **0 or 1 overwrites** the corresponding bit in the value, while an **X leaves the bit** in the value unchanged.\n",
    "\n",
    "To initialize your ferry's docking program, you need the sum of all values left in memory after the initialization program completes.\n",
    "Execute the initialization program. What is the sum of all values left in memory after it completes?"
   ]
  },
  {
   "cell_type": "code",
   "execution_count": 19,
   "metadata": {},
   "outputs": [],
   "source": [
    "def setmem(memory, instruction, mask):\n",
    "    place = int(instruction[(instruction.find('[') + 1): instruction.find(']')])\n",
    "    value = int(instruction[(instruction.find('=') + 1):])\n",
    "    text_value = bin(value)[2:]\n",
    "    text_value = '0' * (36 - len(text_value)) + text_value\n",
    "    new_value = ''.join([(m if m != 'X' else v) for (v, m) in zip(text_value, mask)])\n",
    "    memory[place] = new_value\n",
    "    return memory"
   ]
  },
  {
   "cell_type": "code",
   "execution_count": 20,
   "metadata": {},
   "outputs": [
    {
     "name": "stdout",
     "output_type": "stream",
     "text": [
      "10717676595607\n",
      "Spent time: 0.023 s\n"
     ]
    }
   ],
   "source": [
    "start_time = time.time()\n",
    "\n",
    "with open('input-files/input-day14.txt', 'r') as fic:\n",
    "    instructions = fic.read().rstrip('\\n').split('\\n')\n",
    "\n",
    "mask = 'X' * 36\n",
    "memory = (['0' * 36] * \n",
    "          (max([int(x[(x.find('[') + 1): x.find(']')]) for x in instructions if x.startswith('mem')]) + 1))\n",
    "\n",
    "for n in range(len(instructions)):\n",
    "    if instructions[n].startswith('mem'):\n",
    "        memory = setmem(memory, instructions[n], mask)\n",
    "    elif instructions[n].startswith('mask'):\n",
    "        mask = instructions[n][(instructions[n].find('=') + 2):]\n",
    "\n",
    "print(sum([int(x, 2) for x in memory]))\n",
    "\n",
    "spent_time = time.time() - start_time\n",
    "print(f'Spent time: {spent_time:.3f} s')"
   ]
  },
  {
   "cell_type": "markdown",
   "metadata": {},
   "source": [
    "## --- Part Two ---\n",
    "\n",
    "For some reason, the sea port's computer system still can't communicate with your ferry's docking program. It must be using version 2 of the decoder chip!\n",
    "\n",
    "A version 2 decoder chip doesn't modify the values being written at all. Instead, it acts as a **memory address decoder**. Immediately before a value is written to memory, each bit in the bitmask modifies the corresponding bit of the destination memory address in the following way:\n",
    "\n",
    "* If the bitmask bit is **0**, the corresponding memory address bit is **unchanged**.\n",
    "* If the bitmask bit is **1**, the corresponding memory address bit is **overwritten with 1**.\n",
    "* If the bitmask bit is **X**, the corresponding memory address bit is **floating**. A floating bit is not connected to anything and instead fluctuates unpredictably. In practice, this means the floating bits will **take on all possible values**, potentially causing many memory addresses to be written all at once!\n",
    "\n",
    "Execute the initialization program using an emulator for a version 2 decoder chip. What is the sum of all values left in memory after it completes?"
   ]
  },
  {
   "cell_type": "code",
   "execution_count": 21,
   "metadata": {},
   "outputs": [],
   "source": [
    "def apply_mask(mask, value):\n",
    "    adresses = ['']\n",
    "    for n in range(36):\n",
    "        if mask[n] == '0':\n",
    "            adresses = [x + value[n] for x in adresses]\n",
    "        elif mask[n] == '1':\n",
    "            adresses = [x + '1' for x in adresses]\n",
    "        elif mask[n] == 'X':\n",
    "            adresses = [x + '0' for x in adresses] + [x + '1' for x in adresses]\n",
    "    return [int(x, 2) for x in adresses]"
   ]
  },
  {
   "cell_type": "code",
   "execution_count": 22,
   "metadata": {},
   "outputs": [],
   "source": [
    "def setmem(memory, instruction, mask):\n",
    "    place = int(instruction[(instruction.find('[') + 1): instruction.find(']')])\n",
    "    value = int(instruction[(instruction.find('=') + 1):])\n",
    "    text_place = bin(place)[2:]\n",
    "    text_place = '0' * (36 - len(text_place)) + text_place\n",
    "    adresses = apply_mask(mask, text_place)\n",
    "    for a in adresses:\n",
    "        memory[a] = value\n",
    "    return memory"
   ]
  },
  {
   "cell_type": "code",
   "execution_count": 23,
   "metadata": {},
   "outputs": [
    {
     "name": "stdout",
     "output_type": "stream",
     "text": [
      "3974538275659\n",
      "Spent time: 0.108 s\n"
     ]
    }
   ],
   "source": [
    "start_time = time.time()\n",
    "\n",
    "mask = '0' * 36\n",
    "memory = dict()\n",
    "\n",
    "for n in range(len(instructions)):\n",
    "    if instructions[n].startswith('mem'):\n",
    "        memory = setmem(memory, instructions[n], mask)\n",
    "    elif instructions[n].startswith('mask'):\n",
    "        mask = instructions[n][(instructions[n].find('=') + 2):]\n",
    "\n",
    "print(sum(memory.values()))\n",
    "\n",
    "spent_time = time.time() - start_time\n",
    "print(f'Spent time: {spent_time:.3f} s')"
   ]
  },
  {
   "cell_type": "markdown",
   "metadata": {},
   "source": [
    "## --- Day 15: Rambunctious Recitation ---\n",
    "You catch the airport shuttle and try to book a new flight to your vacation island. Due to the storm, all direct flights have been cancelled, but a route is available to get around the storm. You take it.\n",
    "\n",
    "While you wait for your flight, you decide to check in with the Elves back at the North Pole. They're playing a memory game and are ever so excited to explain the rules!\n",
    "\n",
    "In this game, the players take turns saying numbers. They begin by taking turns reading from a list of starting numbers (your puzzle input). Then, each turn consists of considering the most recently spoken number:\n",
    "\n",
    "* If that was the **first time** the number has been spoken, the current player says **0**.\n",
    "* Otherwise, the number had been spoken before; the current player announces **how many turns apart** the number is from when it was previously spoken.\n",
    "\n",
    "So, after the starting numbers, each turn results in that player speaking aloud either 0 (if the last number is new) or an age (if the last number is a repeat).\n",
    "\n",
    "Their question for you is: what will be the 2020th number spoken?"
   ]
  },
  {
   "cell_type": "code",
   "execution_count": 24,
   "metadata": {},
   "outputs": [
    {
     "name": "stdout",
     "output_type": "stream",
     "text": [
      "371\n",
      "Spent time: 0.023 s\n"
     ]
    }
   ],
   "source": [
    "start_time = time.time()\n",
    "\n",
    "numbers = [9, 3, 1, 0, 8, 4]\n",
    "start = len(numbers) - 1\n",
    "for n in range(start, 2020 - 1):\n",
    "    if (numbers[n] in numbers[:-1]):\n",
    "        numbers += [numbers[::-1][1:].index(numbers[n]) + 1]\n",
    "    else:\n",
    "        numbers += [0]\n",
    "print(numbers[-1])\n",
    "\n",
    "spent_time = time.time() - start_time\n",
    "print(f'Spent time: {spent_time:.3f} s')"
   ]
  },
  {
   "cell_type": "markdown",
   "metadata": {},
   "source": [
    "### --- Part Two ---\n",
    "Impressed, the Elves issue you a challenge: determine the 30000000th number spoken."
   ]
  },
  {
   "cell_type": "code",
   "execution_count": 25,
   "metadata": {},
   "outputs": [
    {
     "name": "stdout",
     "output_type": "stream",
     "text": [
      "352\n",
      "Spent time: 25.155 s\n"
     ]
    }
   ],
   "source": [
    "start_time = time.time()\n",
    "\n",
    "numbers = [9, 3, 1, 0, 8, 4]\n",
    "start = len(numbers) - 1\n",
    "last = {numbers[n]: n for n in range(len(numbers) - 1)}\n",
    "for n in range(start, 30000000 - 1):\n",
    "    if (numbers[n] in last.keys()):\n",
    "        numbers += [n - last[numbers[n]]]\n",
    "    else:\n",
    "        numbers += [0]\n",
    "    last[numbers[n]] = n\n",
    "print(numbers[-1])\n",
    "\n",
    "spent_time = time.time() - start_time\n",
    "print(f'Spent time: {spent_time:.3f} s')"
   ]
  },
  {
   "cell_type": "markdown",
   "metadata": {},
   "source": [
    "## --- Day 16: Ticket Translation ---\n",
    "As you're walking to yet another connecting flight, you realize that one of the legs of your re-routed trip coming up is on a high-speed train. However, the train ticket you were given is in a language you don't understand. You should probably figure out what it says before you get to the train station after the next flight.\n",
    "\n",
    "Unfortunately, you can't actually read the words on the ticket. You can, however, read the numbers, and so you figure out the fields these tickets must have and the valid ranges for values in those fields.\n",
    "\n",
    "You collect the rules for ticket fields, the numbers on your ticket, and the numbers on other nearby tickets for the same train service (via the airport security cameras) together into a single document you can reference (your puzzle input).\n",
    "\n",
    "The rules for ticket fields specify a list of fields that exist somewhere on the ticket and the valid ranges of values for each field. For example, a **rule like class: 1-3 or 5-7** means that one of the fields in every ticket is named class and can be any value in the ranges 1-3 or 5-7 (inclusive, such that 3 and 5 are both valid in this field, but 4 is not).\n",
    "\n",
    "Each ticket is represented by a **single line of comma-separated values**. The values are the numbers on the ticket in the order they appear; every ticket has the same format. For example, consider this ticket:\n",
    "\n",
    "Start by determining which tickets are **completely invalid; these are tickets that contain values which aren't valid for any field**. Ignore your ticket for now.\n",
    "\n",
    "Adding together all of the invalid values produces your ticket **scanning error rate**.\n",
    "\n",
    "Consider the validity of the nearby tickets you scanned. What is your ticket scanning error rate?"
   ]
  },
  {
   "cell_type": "code",
   "execution_count": 26,
   "metadata": {},
   "outputs": [],
   "source": [
    "def extract_numbers(rule):\n",
    "    flatten = [int(y) for x in [x.split('or') for x in rule.split('-')] for y in x]\n",
    "    ok = []\n",
    "    for n in range(int(len(flatten) / 2)):\n",
    "        ok += [i for i in range(flatten[2 * n], flatten[2 * n + 1] + 1)]\n",
    "    return ok"
   ]
  },
  {
   "cell_type": "code",
   "execution_count": 27,
   "metadata": {},
   "outputs": [
    {
     "name": "stdout",
     "output_type": "stream",
     "text": [
      "27870\n",
      "Spent time: 0.031 s\n"
     ]
    }
   ],
   "source": [
    "start_time = time.time()\n",
    "\n",
    "with open('input-files/input-day16.txt', 'r') as fic:\n",
    "    inputs = fic.read().rstrip('\\n').split('\\n\\n')\n",
    "\n",
    "rules = {rule.split(':')[0]: rule.split(':')[1].strip() for rule in inputs[0].split('\\n')}\n",
    "numrules = {key: extract_numbers(rules[key]) for key in rules}\n",
    "\n",
    "my_ticket = [int(x) for x in inputs[1].split('\\n')[1].split(',')]\n",
    "\n",
    "nearby_tickets = [[int(x) for x in ticket.split(',')] for ticket in inputs[2].split('\\n')[1:]]\n",
    "\n",
    "all_valid_numbers = list(set([x for l in numrules.values() for x in l]))\n",
    "\n",
    "scanning_error = 0\n",
    "valid_tickets = []\n",
    "for neighbour in nearby_tickets:\n",
    "    nok_numbers = sum([x for x in neighbour if x not in all_valid_numbers])\n",
    "    scanning_error += nok_numbers\n",
    "    if nok_numbers == 0:\n",
    "        valid_tickets += [neighbour]\n",
    "\n",
    "print(scanning_error)\n",
    "\n",
    "spent_time = time.time() - start_time\n",
    "print(f'Spent time: {spent_time:.3f} s')"
   ]
  },
  {
   "cell_type": "markdown",
   "metadata": {},
   "source": [
    "### --- Part Two ---\n",
    "Now that you've identified which tickets contain invalid values, discard those tickets entirely. Use the remaining valid tickets to determine which field is which.\n",
    "\n",
    "Using the valid ranges for each field, **determine what order the fields appear on the tickets**. The order is consistent between all tickets: if seat is the third field, it is the third field on every ticket, including your ticket.\n",
    "\n",
    "Once you work out which field is which, look for the six fields on your ticket that start with the word departure. What do you get if you multiply those six values together?"
   ]
  },
  {
   "cell_type": "code",
   "execution_count": 28,
   "metadata": {},
   "outputs": [
    {
     "name": "stdout",
     "output_type": "stream",
     "text": [
      "3173135507987\n",
      "Spent time: 0.133 s\n"
     ]
    }
   ],
   "source": [
    "start_time = time.time()\n",
    "\n",
    "valid_tickets += [my_ticket]\n",
    "\n",
    "df = pd.DataFrame(valid_tickets)\n",
    "\n",
    "first_guesses = {}\n",
    "for col in df.columns:\n",
    "    for key in numrules.keys():\n",
    "        if df[col].isin(numrules[key]).mean() == 1:\n",
    "            if key in first_guesses.keys():\n",
    "                first_guesses[key] += [col]\n",
    "            else:\n",
    "                first_guesses[key] = [col]\n",
    "\n",
    "guesses = dict.fromkeys(first_guesses.keys(), -1)\n",
    "previous_guesses = first_guesses.copy()\n",
    "new_guesses = previous_guesses.copy()\n",
    "\n",
    "while min(guesses.values()) == -1:\n",
    "    for k, v in previous_guesses.items():\n",
    "        if len(v) == 1:\n",
    "            guesses[k] = v[0]\n",
    "            del new_guesses[k]\n",
    "            for k0 in new_guesses:\n",
    "                new_guesses[k0] = [x for x in new_guesses[k0] if x != v[0]]\n",
    "    previous_guesses = new_guesses.copy()\n",
    "\n",
    "departure_values = [my_ticket[n] for n in [v for k, v in guesses.items() if k.startswith('departure')]]\n",
    "\n",
    "result = 1\n",
    "for n in departure_values:\n",
    "    result *= n\n",
    "\n",
    "print(result)\n",
    "\n",
    "spent_time = time.time() - start_time\n",
    "print(f'Spent time: {spent_time:.3f} s')"
   ]
  },
  {
   "cell_type": "markdown",
   "metadata": {},
   "source": [
    "## --- Day 17: Conway Cubes ---\n",
    "As your flight slowly drifts through the sky, the Elves at the Mythical Information Bureau at the North Pole contact you. They'd like some help debugging a malfunctioning experimental energy source aboard one of their super-secret imaging satellites.\n",
    "\n",
    "The experimental energy source is based on cutting-edge technology: a set of Conway Cubes contained in a pocket dimension! When you hear it's having problems, you can't help but agree to take a look.\n",
    "\n",
    "The pocket dimension contains an **infinite 3-dimensional grid**. At every integer 3-dimensional coordinate (x,y,z), there exists a single cube which is either active or inactive.\n",
    "\n",
    "In the initial state of the pocket dimension, almost all cubes start inactive. The only exception to this is a small flat region of cubes (your puzzle input); the cubes in this region start in the specified **active (#)** or **inactive (.)** state.\n",
    "\n",
    "The energy source then proceeds to boot up by executing six cycles.\n",
    "\n",
    "Each cube only ever considers **its neighbors: any of the 26 other cubes** where any of their coordinates differ by at most 1. For example, given the cube at x=1,y=2,z=3, its neighbors include the cube at x=2,y=2,z=2, the cube at x=0,y=2,z=3, and so on.\n",
    "\n",
    "During a cycle, all cubes **simultaneously** change their state according to the following rules:\n",
    "\n",
    "* If a cube is **active** and **exactly 2 or 3** of its neighbors are also active, the cube **remains active**. Otherwise, the cube becomes inactive.\n",
    "* If a cube is **inactive** but **exactly 3** of its neighbors are active, the cube **becomes active**. Otherwise, the cube remains inactive.\n",
    "\n",
    "The engineers responsible for this experimental energy source would like you to simulate the pocket dimension and determine what the configuration of cubes should be at the end of the **six-cycle boot process**.\n",
    "\n",
    "Starting with your given initial configuration, simulate six cycles. How many cubes are left in the active state after the sixth cycle?"
   ]
  },
  {
   "cell_type": "code",
   "execution_count": 29,
   "metadata": {},
   "outputs": [
    {
     "name": "stdout",
     "output_type": "stream",
     "text": [
      "---   77 ---\n",
      "---   67 ---\n",
      "---  148 ---\n",
      "---  186 ---\n",
      "---  294 ---\n",
      "---  304 ---\n",
      "Spent time: 2.786 s\n"
     ]
    }
   ],
   "source": [
    "start_time = time.time()\n",
    "\n",
    "with open('input-files/input-day17.txt', 'r') as fic:\n",
    "    initial = fic.read().rstrip('\\n').split('\\n')\n",
    "\n",
    "df = pd.DataFrame(columns=['x', 'y', 'z', 'active'])\n",
    "for x in range(len(initial)):\n",
    "    for y in range(len(initial[x])):\n",
    "        if initial[x][y] == '#':\n",
    "            df = df.append(pd.Series({'x': x, 'y': y, 'z': 0, 'active': True}), ignore_index=True)\n",
    "\n",
    "previous_step = df.copy()\n",
    "for loop in range(6):\n",
    "    neighbours = pd.DataFrame(columns=['x', 'y', 'z'])\n",
    "    \n",
    "    for n in previous_step.index:\n",
    "        activated = previous_step.loc[n]\n",
    "        x = [x + activated['x'] for x in range(-1, 2) for y in range(-1, 2) for z in range(-1, 2)]\n",
    "        y = [y + activated['y'] for x in range(-1, 2) for y in range(-1, 2) for z in range(-1, 2)]\n",
    "        z = [z + activated['z'] for x in range(-1, 2) for y in range(-1, 2) for z in range(-1, 2)]\n",
    "        neighbours = neighbours.append(pd.DataFrame({'x': x, 'y': y, 'z': z, 'count': 0}))\n",
    "        \n",
    "    counts = neighbours.groupby(['x', 'y', 'z'], as_index=False).count()\n",
    "    neighbours = counts.merge(previous_step, on=['x', 'y', 'z'], how='left', validate='1:1')\n",
    "    \n",
    "    neighbours['active'] = neighbours['active'].fillna(False)\n",
    "    neighbours['count'] = neighbours['count'] - neighbours['active']\n",
    "    \n",
    "    next_step = neighbours.loc[(neighbours['count'] == 3) | \n",
    "                               ((neighbours['count'] == 2) & (neighbours['active']))]\n",
    "    previous_step = next_step[['x', 'y', 'z', 'active']].copy()\n",
    "    previous_step['active'] = True\n",
    "    print(f'--- {previous_step.shape[0]:4.0f} ---')\n",
    "\n",
    "spent_time = time.time() - start_time\n",
    "print(f'Spent time: {spent_time:.3f} s')"
   ]
  },
  {
   "cell_type": "markdown",
   "metadata": {},
   "source": [
    "## Part 2\n",
    "\n",
    "Finalement, c'est en 4 dimensions"
   ]
  },
  {
   "cell_type": "code",
   "execution_count": 30,
   "metadata": {},
   "outputs": [
    {
     "name": "stdout",
     "output_type": "stream",
     "text": [
      "---  209 ---\n",
      "---  185 ---\n",
      "---  892 ---\n",
      "---  556 ---\n",
      "--- 2824 ---\n",
      "--- 1868 ---\n",
      "Spent time: 28.163 s\n"
     ]
    }
   ],
   "source": [
    "start_time = time.time()\n",
    "\n",
    "df = pd.DataFrame(columns=['x', 'y', 'z', 'w', 'active'])\n",
    "for x in range(len(initial)):\n",
    "    for y in range(len(initial[x])):\n",
    "        if initial[x][y] == '#':\n",
    "            df = df.append(pd.Series({'x': x, 'y': y, 'z': 0, 'w': 0, 'active': True}), ignore_index=True)\n",
    "\n",
    "previous_step = df.copy()\n",
    "for loop in range(6):\n",
    "    neighbours = pd.DataFrame(columns=['x', 'y', 'z', 'w'])\n",
    "    \n",
    "    for n in previous_step.index:\n",
    "        activated = previous_step.loc[n]\n",
    "        x = [x + activated['x'] for x in range(-1, 2) for y in range(-1, 2) for z in range(-1, 2) for w in range(-1, 2)]\n",
    "        y = [y + activated['y'] for x in range(-1, 2) for y in range(-1, 2) for z in range(-1, 2) for w in range(-1, 2)]\n",
    "        z = [z + activated['z'] for x in range(-1, 2) for y in range(-1, 2) for z in range(-1, 2) for w in range(-1, 2)]\n",
    "        w = [w + activated['w'] for x in range(-1, 2) for y in range(-1, 2) for z in range(-1, 2) for w in range(-1, 2)]\n",
    "        neighbours = neighbours.append(pd.DataFrame({'x': x, 'y': y, 'z': z, 'w': w, 'count': 0}))\n",
    "        \n",
    "    counts = neighbours.groupby(['x', 'y', 'z', 'w'], as_index=False).count()\n",
    "    neighbours = counts.merge(previous_step, on=['x', 'y', 'z', 'w'], how='left', validate='1:1')\n",
    "    \n",
    "    neighbours['active'] = neighbours['active'].fillna(False)\n",
    "    neighbours['count'] = neighbours['count'] - neighbours['active']\n",
    "    \n",
    "    next_step = neighbours.loc[(neighbours['count'] == 3) | \n",
    "                               ((neighbours['count'] == 2) & (neighbours['active']))]\n",
    "    previous_step = next_step[['x', 'y', 'z', 'w', 'active']].copy()\n",
    "    previous_step['active'] = True\n",
    "    print(f'--- {previous_step.shape[0]:4.0f} ---')\n",
    "\n",
    "spent_time = time.time() - start_time\n",
    "print(f'Spent time: {spent_time:.3f} s')"
   ]
  },
  {
   "cell_type": "markdown",
   "metadata": {},
   "source": [
    "## --- Day 18: Operation Order ---\n",
    "\n",
    "As you look out the window and notice a heavily-forested continent slowly appear over the horizon, you are interrupted by the child sitting next to you. They're curious if you could help them with their math homework.\n",
    "\n",
    "Unfortunately, it seems like this \"math\" follows different rules than you remember.\n",
    "\n",
    "The homework (your puzzle input) consists of a series of expressions that consist of **addition (+)**, **multiplication (\\*)**, and **parentheses ((...))**. Just like normal math, parentheses indicate that the expression inside must be evaluated before it can be used by the surrounding expression. Addition still finds the sum of the numbers on both sides of the operator, and multiplication still finds the product.\n",
    "\n",
    "However, the rules of operator precedence have changed. Rather than evaluating multiplication before addition, **the operators have the same precedence, and are evaluated left-to-right** regardless of the order in which they appear.\n",
    "\n",
    "Before you can help with the homework, you need to understand it yourself. Evaluate the expression on each line of the homework; what is the sum of the resulting values?"
   ]
  },
  {
   "cell_type": "code",
   "execution_count": 31,
   "metadata": {},
   "outputs": [],
   "source": [
    "def transform_parenthesis(formula):\n",
    "    if ')' in formula:\n",
    "        close = formula.index(')')\n",
    "        left = formula[:close]\n",
    "        left.reverse()\n",
    "        start = len(left) - left.index('(')\n",
    "        return transform_parenthesis(formula[:(start - 1)] + [formula[start:close]] + formula[(close + 1):])\n",
    "    else:\n",
    "        return formula"
   ]
  },
  {
   "cell_type": "code",
   "execution_count": 32,
   "metadata": {},
   "outputs": [],
   "source": [
    "def solve_formula(formula):\n",
    "    if type(formula) == str:\n",
    "        return int(formula)\n",
    "    elif len(formula) == 1:\n",
    "        return solve_formula(formula[0])\n",
    "    elif formula[-2] == '*':\n",
    "        return solve_formula(formula[:-2]) * solve_formula(formula[-1])\n",
    "    elif formula[-2] == '+':\n",
    "        return solve_formula(formula[:-2]) + solve_formula(formula[-1])"
   ]
  },
  {
   "cell_type": "code",
   "execution_count": 33,
   "metadata": {},
   "outputs": [
    {
     "name": "stdout",
     "output_type": "stream",
     "text": [
      "12918250417632\n",
      "Spent time: 0.008 s\n"
     ]
    }
   ],
   "source": [
    "start_time = time.time()\n",
    "\n",
    "with open('input-files/input-day18.txt', 'r') as fic:\n",
    "    operations = fic.read().rstrip('\\n').split('\\n')\n",
    "\n",
    "result = sum([solve_formula(transform_parenthesis([x for x in list(operation) if x != ' '])) \n",
    "     for operation in operations])\n",
    "print(result)\n",
    "\n",
    "spent_time = time.time() - start_time\n",
    "print(f'Spent time: {spent_time:.3f} s')"
   ]
  },
  {
   "cell_type": "markdown",
   "metadata": {},
   "source": [
    "### --- Part Two ---\n",
    "You manage to answer the child's questions and they finish part 1 of their homework, but get stuck when they reach the next section: advanced math.\n",
    "\n",
    "Now, addition and multiplication have different precedence levels, but they're not the ones you're familiar with. Instead, **addition is evaluated before multiplication**.\n",
    "\n",
    "What do you get if you add up the results of evaluating the homework problems using these new rules?"
   ]
  },
  {
   "cell_type": "code",
   "execution_count": 34,
   "metadata": {},
   "outputs": [],
   "source": [
    "def solve_formula(formula):\n",
    "    if type(formula) == str:\n",
    "        return int(formula)\n",
    "    elif len(formula) == 1:\n",
    "        return solve_formula(formula[0])\n",
    "    elif '*' in formula:\n",
    "        times = formula.index('*')\n",
    "        return solve_formula(formula[:times]) * solve_formula(formula[(times + 1):])\n",
    "    elif formula[-2] == '+':\n",
    "        return solve_formula(formula[:-2]) + solve_formula(formula[-1])"
   ]
  },
  {
   "cell_type": "code",
   "execution_count": 35,
   "metadata": {},
   "outputs": [
    {
     "name": "stdout",
     "output_type": "stream",
     "text": [
      "171259538712010\n",
      "Spent time: 0.011 s\n"
     ]
    }
   ],
   "source": [
    "start_time = time.time()\n",
    "\n",
    "result = sum([solve_formula(transform_parenthesis([x for x in list(operation) if x != ' '])) \n",
    "     for operation in operations])\n",
    "print(result)\n",
    "\n",
    "spent_time = time.time() - start_time\n",
    "print(f'Spent time: {spent_time:.3f} s')"
   ]
  }
 ],
 "metadata": {
  "kernelspec": {
   "display_name": "Python 3",
   "language": "python",
   "name": "python3"
  },
  "language_info": {
   "codemirror_mode": {
    "name": "ipython",
    "version": 3
   },
   "file_extension": ".py",
   "mimetype": "text/x-python",
   "name": "python",
   "nbconvert_exporter": "python",
   "pygments_lexer": "ipython3",
   "version": "3.8.5"
  }
 },
 "nbformat": 4,
 "nbformat_minor": 4
}
