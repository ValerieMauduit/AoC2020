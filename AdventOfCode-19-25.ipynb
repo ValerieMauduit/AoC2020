{
 "cells": [
  {
   "cell_type": "markdown",
   "metadata": {},
   "source": [
    "## --- Day 19: Monster Messages ---\n",
    "    \n",
    "You land in an airport surrounded by dense forest. As you walk to your high-speed train, the Elves at the Mythical Information Bureau contact you again. They think their satellite has collected an image of a sea monster! Unfortunately, the connection to the satellite is having problems, and many of the messages sent back from the satellite have been corrupted.\n",
    "\n",
    "They sent you a list of the rules valid messages should obey and a list of received messages they've collected so far (your puzzle input).\n",
    "\n",
    "The rules for valid messages (the top part of your puzzle input) are numbered and build upon each other.\n",
    "* Some rules, like **3: \"b\"**, simply match a single character (in this case, b).\n",
    "* The remaining rules **list the sub-rules that must be followed**; for example, the rule 0: 1 2 means that to match rule 0, the text being checked must match rule 1, and the text after the part that matched rule 1 must then match rule 2.\n",
    "* Some of the rules have **multiple lists of sub-rules separated by a pipe (|)**. This means that at least one list of sub-rules must match. (The ones that match might be different each time the rule is encountered.) For example, the rule 2: 1 3 | 3 1 means that to match rule 2, the text being checked must match rule 1 followed by rule 3 or it must match rule 3 followed by rule 1,\n",
    "\n",
    "Fortunately, there are **no loops in the rules**, so the list of possible matches will be finite. Since rule 1 matches a and rule 3 matches b, rule 2 matches either ab or ba. Therefore, rule 0 matches aab or aba.\n",
    "\n",
    "The **received messages** (the bottom part of your puzzle input) need to be checked against the rules so you can determine which are valid and which are corrupted.\n",
    "\n",
    "Your goal is to determine **the number of messages that completely match rule 0**. In the above example, ababbb and abbbab match, but bababa, aaabbb, and aaaabbb do not, producing the answer 2. The whole message must match all of rule 0; there can't be extra unmatched characters in the message. (For example, aaaabbb might appear to match rule 0 above, but it has an extra unmatched b on the end.)\n",
    "\n",
    "How many messages completely match rule 0?"
   ]
  },
  {
   "cell_type": "code",
   "execution_count": 1,
   "metadata": {},
   "outputs": [],
   "source": [
    "with open('input-day19.txt', 'r') as fic:\n",
    "    data = fic.read().rstrip('\\n').split('\\n\\n')\n",
    "    input1 = data[0].split('\\n')\n",
    "    messages = data[1].split('\\n')"
   ]
  },
  {
   "cell_type": "code",
   "execution_count": 2,
   "metadata": {},
   "outputs": [],
   "source": [
    "rules = {x.split(':')[0]: x.split(':')[1].strip(' ').strip('\"') for x in input1}\n",
    "for k, v in rules.items():\n",
    "    rules[k] = v.split()"
   ]
  },
  {
   "cell_type": "code",
   "execution_count": 3,
   "metadata": {},
   "outputs": [],
   "source": [
    "def match_rule(message, rule, rules):\n",
    "    if (len(rule) == 0):\n",
    "        return ((len(message) == 0))\n",
    "    elif (rule[0] in 'abcdefghijklmnopqrstuvwxyz'):\n",
    "        if (message[0] == rule[0]):\n",
    "            return match_rule(message[1:], rule[1:], rules)\n",
    "        else:\n",
    "            return False\n",
    "    elif '|' in rule:\n",
    "        nb = rule.index('|')\n",
    "        return (match_rule(message, rule[:nb] + rule[(2 * nb + 1):], rules) | \n",
    "                match_rule(message, rule[(nb + 1):], rules))\n",
    "    else:\n",
    "        return match_rule(message, rules[rule[0]] + rule[1:], rules)"
   ]
  },
  {
   "cell_type": "code",
   "execution_count": 4,
   "metadata": {},
   "outputs": [
    {
     "data": {
      "text/plain": [
       "113"
      ]
     },
     "execution_count": 4,
     "metadata": {},
     "output_type": "execute_result"
    }
   ],
   "source": [
    "sum([match_rule(message, rules['0'], rules) for message in messages])"
   ]
  },
  {
   "cell_type": "markdown",
   "metadata": {},
   "source": [
    "### --- Part Two ---\n",
    "\n",
    "As you look over the list of messages, you realize your matching rules aren't quite right. To fix them, completely **replace rules 8**: 42 and **11**: 42 31 with the following:\n",
    "\n",
    "* **8: 42 | 42 8**\n",
    "* **11: 42 31 | 42 11 31**\n",
    "\n",
    "This small change has a big impact: now, the rules do contain loops, and the list of messages they could hypothetically match is infinite. You'll need to determine how these changes affect which messages are valid.\n",
    "\n",
    "Fortunately, many of the rules are unaffected by this change; it might help to start by looking at which rules always match the same set of values and how those rules (especially rules 42 and 31) are used by the new versions of rules 8 and 11.\n",
    "\n",
    "(Remember, you only need to handle the rules you have; building a solution that could handle any hypothetical combination of rules would be significantly more difficult.)\n",
    "\n",
    "After updating rules 8 and 11, how many messages completely match rule 0?"
   ]
  },
  {
   "cell_type": "code",
   "execution_count": 5,
   "metadata": {},
   "outputs": [],
   "source": [
    "with open('input-day19.txt', 'r') as fic:\n",
    "    data = fic.read().rstrip('\\n').split('\\n\\n')\n",
    "    input1 = data[0].split('\\n')\n",
    "    messages = data[1].split('\\n')"
   ]
  },
  {
   "cell_type": "code",
   "execution_count": 6,
   "metadata": {},
   "outputs": [],
   "source": [
    "rules = {x.split(':')[0]: x.split(':')[1].strip(' ').strip('\"') for x in input1}\n",
    "for k, v in rules.items():\n",
    "    rules[k] = v.split()"
   ]
  },
  {
   "cell_type": "code",
   "execution_count": 7,
   "metadata": {},
   "outputs": [],
   "source": [
    "rules['8'] = '42 | 42 8'.split()\n",
    "rules['11'] = '42 31 | 42 11 31'.split()"
   ]
  },
  {
   "cell_type": "code",
   "execution_count": 8,
   "metadata": {},
   "outputs": [],
   "source": [
    "for k, v in rules.items():\n",
    "    if '|' in v:\n",
    "        cut = v.index('|')\n",
    "        rules[k] = {'type': 'or',\n",
    "                    'value': [{'type': 'and', 'value': v[:cut]}, {'type': 'and', 'value': v[(cut + 1):]}]}\n",
    "    else:\n",
    "        rules[k] = {'type': 'and', 'value': v}"
   ]
  },
  {
   "cell_type": "code",
   "execution_count": 9,
   "metadata": {},
   "outputs": [],
   "source": [
    "def match_rule(message, rule, rules):\n",
    "    value = rule['value']\n",
    "    rule_type = rule['type']\n",
    "    if (rule_type == 'or'):\n",
    "        return match_rule(message, value[0], rules) | match_rule(message, value[1], rules)\n",
    "    elif (rule_type == 'and'):\n",
    "        if (len(value) == 0):\n",
    "            return ((len(message) == 0))\n",
    "        elif (len(message) == 0):\n",
    "            return False\n",
    "        elif (value[0] in 'abcdefghijklmnopqrstuvwxyz'):\n",
    "            if (message[0] == value[0]):\n",
    "                return match_rule(message[1:], {'type': 'and', 'value': value[1:]}, rules)\n",
    "            else:\n",
    "                return False\n",
    "        else:\n",
    "            if rules[value[0]]['type'] == 'and':\n",
    "                return match_rule(message,\n",
    "                                  {'type': 'and', 'value': rules[value[0]]['value'] + value[1:]},\n",
    "                                  rules)\n",
    "            else:\n",
    "                return ((match_rule(message, \n",
    "                                    {'type': 'and', 'value': rules[value[0]]['value'][0]['value'] + value[1:]},\n",
    "                                    rules)) | \n",
    "                        (match_rule(message, \n",
    "                                    {'type': 'and', 'value': rules[value[0]]['value'][1]['value'] + value[1:]},\n",
    "                                    rules)))"
   ]
  },
  {
   "cell_type": "code",
   "execution_count": 10,
   "metadata": {
    "scrolled": true
   },
   "outputs": [
    {
     "data": {
      "text/plain": [
       "253"
      ]
     },
     "execution_count": 10,
     "metadata": {},
     "output_type": "execute_result"
    }
   ],
   "source": [
    "sum([match_rule(message, rules['0'], rules) for message in messages])"
   ]
  },
  {
   "cell_type": "markdown",
   "metadata": {},
   "source": [
    "## --- Day 20: Jurassic Jigsaw ---\n",
    "\n",
    "The high-speed train leaves the forest and quickly carries you south. You can even see a desert in the distance! Since you have some spare time, you might as well see if there was anything interesting in the image the Mythical Information Bureau satellite captured.\n",
    "\n",
    "After decoding the satellite messages, you discover that the data actually contains many small images created by the satellite's camera array. The camera array consists of many cameras; rather than produce a single square image, they produce many smaller square image tiles that need to be reassembled back into a single image.\n",
    "\n",
    "Each camera in the camera array returns a single monochrome image tile with a random **unique ID number**. The tiles arrived in a random order.\n",
    "\n",
    "Worse yet, the camera array appears to be malfunctioning: each image tile has been **rotated and flipped** to a random orientation. Your first task is to reassemble the original image by orienting the tiles so they fit together.\n",
    "\n",
    "To show how the tiles should be reassembled, each tile's image data includes **a border that should line up exactly with its adjacent tiles**. All tiles have this border, and the border lines up exactly when the tiles are both oriented correctly. Tiles at the edge of the image also have this border, but the outermost edges won't line up with any other tiles.\n",
    "\n",
    "Assemble the tiles into an image. What do you get if you **multiply together the IDs of the four corner tiles**?"
   ]
  },
  {
   "cell_type": "markdown",
   "metadata": {},
   "source": [
    "### --- Part Two ---\n",
    "Now, you're ready to check the image for sea monsters.\n",
    "\n",
    "The borders of each tile are not part of the actual image; **start by removing them**.\n",
    "Remove the gaps to form the actual image.\n",
    "Now, you're ready to search for sea monsters! Because your image is monochrome, a sea monster will look like this:"
   ]
  },
  {
   "cell_type": "code",
   "execution_count": 2,
   "metadata": {},
   "outputs": [
    {
     "name": "stdout",
     "output_type": "stream",
     "text": [
      "                  # \n",
      "#    ##    ##    ###\n",
      " #  #  #  #  #  #   \n"
     ]
    }
   ],
   "source": [
    "print('                  # ')\n",
    "print('#    ##    ##    ###')\n",
    "print(' #  #  #  #  #  #   ')"
   ]
  },
  {
   "cell_type": "markdown",
   "metadata": {},
   "source": [
    "When looking for this pattern in the image, the spaces can be anything; **only the # need to match**. Also, you **might need to rotate or flip** your image before it's oriented correctly to find sea monsters. \n",
    "\n",
    "Determine how rough the waters are in the sea monsters' habitat by **counting the number of # that are not part of a sea monster**. \n",
    "\n",
    "How many # are not part of a sea monster?"
   ]
  },
  {
   "cell_type": "markdown",
   "metadata": {},
   "source": [
    "## --- Day 21: Allergen Assessment ---\n",
    "\n",
    "You reach the train's last stop and the closest you can get to your vacation island without getting wet. There aren't even any boats here, but nothing can stop you now: you build a raft. You just need a few days' worth of food for your journey.\n",
    "\n",
    "You don't speak the local language, so you can't read any ingredients lists. However, sometimes, allergens are listed in a language you do understand. You should be able to use this information to determine which ingredient contains which allergen and work out which foods are safe to take with you on your trip.\n",
    "\n",
    "You start by compiling a list of foods (your puzzle input), one food per line. Each line includes that food's ingredients list followed by some or all of the allergens the food contains.\n",
    "\n",
    "Each allergen is found in **exactly one ingredient**. **Each ingredient contains zero or one allergen**. Allergens **aren't always marked**; when they're listed (as in (contains nuts, shellfish) after an ingredients list), the ingredient that contains each listed allergen will be somewhere in the corresponding ingredients list. However, even if an allergen isn't listed, the ingredient that contains that allergen could still be present: maybe they forgot to label it, or maybe it was labeled in a language you don't know.\n",
    "\n",
    "The first step is to determine **which ingredients can't possibly contain any of the allergens** in any food in your list. In the above example, none of the ingredients kfcds, nhms, sbzzf, or trh can contain an allergen. Counting the number of times any of these ingredients appear in any ingredients list produces 5: they all appear once each except sbzzf, which appears twice.\n",
    "\n",
    "Determine which ingredients cannot possibly contain any of the allergens in your list. How many times do any of those ingredients appear?"
   ]
  },
  {
   "cell_type": "code",
   "execution_count": 1,
   "metadata": {},
   "outputs": [],
   "source": [
    "with open('input-day21.txt', 'r') as fic:\n",
    "    tempo = fic.read().strip('\\n').split('\\n')"
   ]
  },
  {
   "cell_type": "code",
   "execution_count": 2,
   "metadata": {},
   "outputs": [],
   "source": [
    "import pandas as pd\n",
    "all_products = []\n",
    "parsed = []\n",
    "for product in tempo:\n",
    "    ingredients, allergens = product.strip(')').split('(')\n",
    "    ingredients0 = [f'I_{x}' for x in ingredients.strip(' ').split(' ')]\n",
    "    allergens0 = [f'A_{x}' for x in allergens[8:].strip(' ').split(', ')]\n",
    "    parsed += [ingredients0 + allergens0]\n",
    "    all_products += ingredients0\n",
    "    all_products += allergens0\n",
    "\n",
    "all_products = list(set(all_products))\n",
    "all_products.sort()    \n",
    "\n",
    "products = pd.DataFrame(columns= all_products)"
   ]
  },
  {
   "cell_type": "code",
   "execution_count": 3,
   "metadata": {},
   "outputs": [],
   "source": [
    "for product in parsed:\n",
    "    products = products.append(pd.DataFrame({x: [1] for x in product}))\n",
    "products.fillna(0, inplace=True)"
   ]
  },
  {
   "cell_type": "code",
   "execution_count": 4,
   "metadata": {},
   "outputs": [],
   "source": [
    "guess_allergens = {}\n",
    "for allergen in [col for col in products.columns if col.startswith('A_')]:\n",
    "    ok = products.loc[products[allergen] == 1, [col for col in products if col.startswith('I_')]].min()\n",
    "    guess_allergens[allergen] = list(ok.loc[ok == 1].index)"
   ]
  },
  {
   "cell_type": "code",
   "execution_count": 5,
   "metadata": {},
   "outputs": [],
   "source": [
    "sure_allergens = dict.fromkeys(guess_allergens.keys(), None)\n",
    "while None in sure_allergens.values():\n",
    "    for allergen in guess_allergens:\n",
    "        if len(guess_allergens[allergen]) == 1:\n",
    "            guessed_product = guess_allergens[allergen][0]\n",
    "            sure_allergens[allergen] = guessed_product\n",
    "            for k in guess_allergens:\n",
    "                guess_allergens[k] = [x for x in guess_allergens[k] if x != guessed_product]"
   ]
  },
  {
   "cell_type": "code",
   "execution_count": 6,
   "metadata": {},
   "outputs": [
    {
     "data": {
      "text/plain": [
       "2282"
      ]
     },
     "execution_count": 6,
     "metadata": {},
     "output_type": "execute_result"
    }
   ],
   "source": [
    "products.loc[\n",
    "    :, \n",
    "    [col for col in products.columns if ((col.startswith('I_')) and (col not in sure_allergens.values()))]\n",
    "].sum().sum()"
   ]
  },
  {
   "cell_type": "markdown",
   "metadata": {},
   "source": [
    "### --- Part Two ---\n",
    "Now that you've isolated the inert ingredients, you should have enough information to figure out which ingredient contains which allergen.\n",
    "\n",
    "Arrange the ingredients alphabetically by their allergen and separate them by commas to produce your canonical dangerous ingredient list. (There should not be any spaces in your canonical dangerous ingredient list.) In the above example, this would be mxmxvkd,sqjhc,fvjkl.\n",
    "\n",
    "Time to stock your raft with supplies. What is your canonical dangerous ingredient list?"
   ]
  },
  {
   "cell_type": "code",
   "execution_count": 7,
   "metadata": {},
   "outputs": [],
   "source": [
    "canonical = pd.DataFrame()\n",
    "canonical['allergen'] = sure_allergens.keys()\n",
    "canonical['ingredient'] = sure_allergens.values()"
   ]
  },
  {
   "cell_type": "code",
   "execution_count": 8,
   "metadata": {},
   "outputs": [
    {
     "data": {
      "text/plain": [
       "'vrzkz,zjsh,hphcb,mbdksj,vzzxl,ctmzsr,rkzqs,zmhnj'"
      ]
     },
     "execution_count": 8,
     "metadata": {},
     "output_type": "execute_result"
    }
   ],
   "source": [
    "','.join([x[2:] for x in canonical.sort_values(by='allergen')['ingredient']])"
   ]
  },
  {
   "cell_type": "markdown",
   "metadata": {},
   "source": [
    "## --- Day 22: Crab Combat ---\n",
    "It only takes a few hours of sailing the ocean on a raft for boredom to sink in. Fortunately, you brought a small deck of space cards! You'd like to play a game of Combat, and there's even an opponent available: a small crab that climbed aboard your raft before you left.\n",
    "\n",
    "Fortunately, it doesn't take long to teach the crab the rules.\n",
    "\n",
    "Before the game starts, split the cards so each player has their own deck (your puzzle input). Then, the game consists of a series of rounds: both players **draw their top card**, and the player with the **higher-valued card wins** the round. The winner keeps both cards, **placing them on the bottom** of their own deck so that the **winner's card is above** the other card. If this causes a player to **have all of the cards**, they win, and the game ends.\n",
    "\n",
    "#### == Post-game results ==\n",
    "\n",
    "Once the game ends, you can calculate the winning player's score. The **bottom card** in their deck is worth the value of the card **multiplied by 1**, the second-from-the-bottom card is worth the value of the card multiplied by 2, and **so on**. With 10 cards, the **top card** is worth the value on the card **multiplied by 10**. \n",
    "\n",
    "Play the small crab in a game of Combat using the two decks you just dealt. What is the winning player's score?"
   ]
  },
  {
   "cell_type": "code",
   "execution_count": 1,
   "metadata": {},
   "outputs": [],
   "source": [
    "with open('input-day22.txt', 'r') as fic:\n",
    "    tempo = fic.read().strip('\\n').split('\\n\\n')"
   ]
  },
  {
   "cell_type": "code",
   "execution_count": 2,
   "metadata": {},
   "outputs": [],
   "source": [
    "players = [[int(y) for y in x.split(':')[1].strip('\\n').split('\\n')] for x in tempo]"
   ]
  },
  {
   "cell_type": "code",
   "execution_count": 3,
   "metadata": {},
   "outputs": [],
   "source": [
    "def crab_combat(players):\n",
    "    while (min([len(x) for x in players]) > 0):\n",
    "        if players[0][0] > players[1][0]:\n",
    "            players = [players[0][1:] + [players[0][0], players[1][0]], players[1][1:]]\n",
    "        else:\n",
    "            players = [players[0][1:], players[1][1:] + [players[1][0], players[0][0]]]\n",
    "    return players"
   ]
  },
  {
   "cell_type": "code",
   "execution_count": 4,
   "metadata": {},
   "outputs": [],
   "source": [
    "def score(deck):\n",
    "    return sum([deck[-n] * n for n in range(1, len(deck) + 1)])"
   ]
  },
  {
   "cell_type": "code",
   "execution_count": 5,
   "metadata": {},
   "outputs": [],
   "source": [
    "final_deck = crab_combat(players)"
   ]
  },
  {
   "cell_type": "code",
   "execution_count": 6,
   "metadata": {},
   "outputs": [
    {
     "data": {
      "text/plain": [
       "32033"
      ]
     },
     "execution_count": 6,
     "metadata": {},
     "output_type": "execute_result"
    }
   ],
   "source": [
    "score(final_deck[0]) + score(final_deck[1])"
   ]
  },
  {
   "cell_type": "markdown",
   "metadata": {},
   "source": [
    "### --- Part Two ---\n",
    "You lost to the small crab! Fortunately, crabs aren't very good at recursion. To defend your honor as a Raft Captain, you challenge the small crab to a game of Recursive Combat.\n",
    "\n",
    "Recursive Combat still starts by splitting the cards into two decks (you offer to play with the same starting decks as before - it's only fair). Then, the game consists of a series of rounds with a few changes:\n",
    "\n",
    "* Before either player deals a card, if there was **a previous round in this game that had exactly the same cards in the same order** in the same players' decks, the game instantly ends in a win for **player 1**. Previous rounds from other games are not considered. (This prevents infinite games of Recursive Combat, which everyone agrees is a bad idea.)\n",
    "* Otherwise, this round's cards must be in a new configuration; the players begin the round by each drawing the top card of their deck as normal.\n",
    "* If **both players have at least as many cards remaining** in their deck as **the value of the card they just drew**, the winner of the round is determined by playing a new game of Recursive Combat (see below).\n",
    "* Otherwise, at least one player must not have enough cards left in their deck to recurse; the winner of the round is the player with the higher-value card.\n",
    "* As in regular Combat, the winner of the round (even if they won the round by winning a sub-game) takes the two cards dealt at the beginning of the round and places them on the bottom of their own deck (again so that the winner's card is above the other card). Note that the winner's card might be the lower-valued of the two cards if they won the round due to winning a sub-game. If collecting cards by winning the round causes a player to have all of the cards, they win, and the game ends.\n",
    "\n",
    "During a round of Recursive Combat, if both players have at least as many cards in their own decks as the number on the card they just dealt, the winner of the round is determined by recursing into a sub-game of Recursive Combat. (For example, if player 1 draws the 3 card, and player 2 draws the 7 card, this would occur if player 1 has at least 3 cards left and player 2 has at least 7 cards left, not counting the 3 and 7 cards that were drawn.)\n",
    "\n",
    "To play a sub-game of Recursive Combat, each player creates a new deck by making a copy of the next cards in their deck (the quantity of cards copied is equal to the number on the card they drew to trigger the sub-game). During this sub-game, the game that triggered it is on hold and completely unaffected; no cards are removed from players' decks to form the sub-game. (For example, if player 1 drew the 3 card, their deck in the sub-game would be copies of the next three cards in their deck.)\n",
    "\n",
    "After the game, the winning player's score is calculated from the cards they have in their original deck using the same rules as regular Combat.\n",
    "\n",
    "Defend your honor as Raft Captain by playing the small crab in a game of Recursive Combat using the same two decks as before. What is the winning player's score?"
   ]
  },
  {
   "cell_type": "code",
   "execution_count": 7,
   "metadata": {},
   "outputs": [],
   "source": [
    "players = [[9, 2, 6, 3, 1], [5, 8, 4, 7, 10]]"
   ]
  },
  {
   "cell_type": "code",
   "execution_count": 8,
   "metadata": {},
   "outputs": [],
   "source": [
    "def score(deck):\n",
    "    return sum([deck[-n] * n for n in range(1, len(deck) + 1)])"
   ]
  },
  {
   "cell_type": "code",
   "execution_count": 9,
   "metadata": {},
   "outputs": [],
   "source": [
    "def move_cards(players, winner):\n",
    "    # return a new deck for the 2 players\n",
    "    if winner == 0:\n",
    "        return [players[0][1:] + [players[0][0], players[1][0]], players[1][1:]]\n",
    "    else:\n",
    "        return [players[0][1:], players[1][1:] + [players[1][0], players[0][0]]]"
   ]
  },
  {
   "cell_type": "code",
   "execution_count": 10,
   "metadata": {},
   "outputs": [],
   "source": [
    "from copy import deepcopy"
   ]
  },
  {
   "cell_type": "code",
   "execution_count": 11,
   "metadata": {},
   "outputs": [],
   "source": [
    "def crab_combat(players, previous_decks=[]):\n",
    "    while (min([len(x) for x in players]) > 0):\n",
    "        if players in previous_decks:\n",
    "            #     === Rule: short end if game already played  ===\n",
    "            return [players[0], []]\n",
    "        elif (len(players[0]) > players[0][0]) & (len(players[1]) > players[1][0]):\n",
    "            #     ===           Recursive game entry          ===\n",
    "            p1 = deepcopy(players[0][1:(players[0][0] + 1)])\n",
    "            p2 = deepcopy(players[1][1:(players[1][0] + 1)])\n",
    "            result = crab_combat([p1, p2], [])\n",
    "            previous_decks += [deepcopy(players)]\n",
    "            # Use recursive game result to move decks\n",
    "            if len(result[0]) == 0:\n",
    "                players = move_cards(players, 1)\n",
    "            elif len(result[1]) == 0:\n",
    "                players = move_cards(players, 0)\n",
    "            else:\n",
    "                raise(Exception(\"Rien ne va plus !!!\"))\n",
    "        elif players[0][0] > players[1][0]:\n",
    "            previous_decks += [deepcopy(players)]\n",
    "            players = move_cards(players, 0)\n",
    "        else:\n",
    "            previous_decks += [deepcopy(players)]\n",
    "            players = move_cards(players, 1)\n",
    "        \n",
    "    return players"
   ]
  },
  {
   "cell_type": "code",
   "execution_count": 12,
   "metadata": {},
   "outputs": [],
   "source": [
    "final_deck = crab_combat(players)"
   ]
  },
  {
   "cell_type": "code",
   "execution_count": 13,
   "metadata": {},
   "outputs": [
    {
     "data": {
      "text/plain": [
       "291"
      ]
     },
     "execution_count": 13,
     "metadata": {},
     "output_type": "execute_result"
    }
   ],
   "source": [
    "score(final_deck[0]) + score(final_deck[1])"
   ]
  },
  {
   "cell_type": "markdown",
   "metadata": {},
   "source": [
    "## --- Day 23: Crab Cups ---\n",
    "\n",
    "The small crab challenges you to a game! The crab is going to mix up some cups, and you have to predict where they'll end up.\n",
    "\n",
    "The cups will be **arranged in a circle** and labeled clockwise.\n",
    "\n",
    "Before the crab starts, it will designate the first cup in your list as the current cup. The crab is then going to do 100 moves.\n",
    "\n",
    "Each move, the crab does the following actions:\n",
    "\n",
    "* The crab **picks up the three cups that are immediately clockwise** of the current cup. They are removed from the circle; cup spacing is adjusted as necessary to maintain the circle.\n",
    "* The crab **selects a destination cup**: the cup with a label equal to the current cup's label minus one. If this would select one of the cups that was just picked up, the crab will keep subtracting one until it finds a cup that wasn't just picked up. If at any point in this process the value goes below the lowest value on any cup's label, it wraps around to the highest value on any cup's label instead.\n",
    "* The crab **places the cups it just picked up** so that they are immediately clockwise of the destination cup. They keep the same order as when they were picked up.\n",
    "* The crab **selects a new current cup**: the cup which is immediately clockwise of the current cup.\n",
    "\n",
    "After the crab is done, what order will the cups be in? **Starting after the cup labeled 1**, collect the other cups' labels clockwise into a single string with no extra characters; each number except 1 should appear exactly once.\n",
    "\n",
    "Using your labeling, simulate 100 moves. What are the labels on the cups after cup 1?\n",
    "\n",
    "Your puzzle input is 962713854."
   ]
  },
  {
   "cell_type": "code",
   "execution_count": 1,
   "metadata": {},
   "outputs": [],
   "source": [
    "puzzle_input = '962713854'"
   ]
  },
  {
   "cell_type": "code",
   "execution_count": 2,
   "metadata": {},
   "outputs": [
    {
     "data": {
      "text/plain": [
       "[9, 6, 2, 7, 1, 3, 8, 5, 4]"
      ]
     },
     "execution_count": 2,
     "metadata": {},
     "output_type": "execute_result"
    }
   ],
   "source": [
    "cups = [int(x) for x in puzzle_input]\n",
    "cups"
   ]
  },
  {
   "cell_type": "code",
   "execution_count": 3,
   "metadata": {
    "scrolled": true
   },
   "outputs": [],
   "source": [
    "position = 0\n",
    "\n",
    "for n in range(100):\n",
    "    current = cups[position]\n",
    "    places_picked_up = [x%9 for x in range(position+1, position+4)]\n",
    "    picked_up = [cups[n] for n in places_picked_up]\n",
    "    tempo_cups = [cups[n] for n in range(9) if n not in places_picked_up]\n",
    "    \n",
    "    destination = None\n",
    "    value = current - 1\n",
    "    while destination is None:\n",
    "        if value == 0:\n",
    "            value = 9\n",
    "        if value in tempo_cups:\n",
    "            destination = value\n",
    "        value -= 1\n",
    "        if value == 0:\n",
    "            value = 9\n",
    "    insert_place = tempo_cups.index(destination) + 1\n",
    "    cups = tempo_cups[:insert_place] + picked_up + tempo_cups[insert_place:]\n",
    "\n",
    "    position = (cups.index(current) + 1)%9"
   ]
  },
  {
   "cell_type": "code",
   "execution_count": 4,
   "metadata": {},
   "outputs": [
    {
     "data": {
      "text/plain": [
       "'65432978'"
      ]
     },
     "execution_count": 4,
     "metadata": {},
     "output_type": "execute_result"
    }
   ],
   "source": [
    "index1 = cups.index(1)\n",
    "''.join([str(x) for x in cups[(index1 + 1):] + cups[:index1]])"
   ]
  },
  {
   "cell_type": "markdown",
   "metadata": {},
   "source": [
    "### --- Part Two ---\n",
    "Due to what you can only assume is a mistranslation (you're not exactly fluent in Crab), you are quite surprised when the crab starts arranging many cups in a circle on your raft - **one million (1000000) in total**.\n",
    "\n",
    "Your labeling is still correct for the first few cups; after that, the remaining cups are just numbered in an increasing fashion starting from the number after the highest number in your list and proceeding one by one until one million is reached. (For example, if your labeling were 54321, the cups would be numbered 5, 4, 3, 2, 1, and then start counting up from 6 until one million is reached.) In this way, every number from one through one million is used exactly once.\n",
    "\n",
    "After discovering where you made the mistake in translating Crab Numbers, you realize the small crab isn't going to do merely 100 moves; the crab is going to do **ten million (10000000) moves**!\n",
    "\n",
    "The crab is going to hide your stars - one each - under the **two cups that will end up immediately clockwise of cup 1**. You can have them if you predict what the labels on those cups will be when the crab is finished.\n",
    "\n",
    "Determine which two cups will end up immediately clockwise of cup 1. What do you get if you multiply their labels together?"
   ]
  },
  {
   "cell_type": "code",
   "execution_count": 5,
   "metadata": {},
   "outputs": [],
   "source": [
    "puzzle_input = '962713854'\n",
    "ncups = 1000000\n",
    "nrounds = 10000000"
   ]
  },
  {
   "cell_type": "code",
   "execution_count": 6,
   "metadata": {},
   "outputs": [],
   "source": [
    "def moins1(nb, nbmax):\n",
    "    return (nb - 2)%nbmax + 1"
   ]
  },
  {
   "cell_type": "code",
   "execution_count": 7,
   "metadata": {},
   "outputs": [],
   "source": [
    "def suivant(nb, nbmax):\n",
    "    return (nb%nbmax + 1)"
   ]
  },
  {
   "cell_type": "code",
   "execution_count": 8,
   "metadata": {},
   "outputs": [],
   "source": [
    "def list2dict(list_cups):\n",
    "    nmax = len(list_cups)\n",
    "    dict_cups = {\n",
    "        list_cups[n]: [list_cups[(n + 1)%nmax], moins1(list_cups[n], nmax)] \n",
    "        for n in range(nmax)\n",
    "    }\n",
    "    return dict_cups"
   ]
  },
  {
   "cell_type": "code",
   "execution_count": 9,
   "metadata": {},
   "outputs": [],
   "source": [
    "def droite(nb, cups):\n",
    "    return cups[nb][0]"
   ]
  },
  {
   "cell_type": "code",
   "execution_count": 10,
   "metadata": {},
   "outputs": [],
   "source": [
    "def dict2list(dict_cups, from_cup=1, nb_cups=9):\n",
    "    list_cups = [from_cup]\n",
    "    for n in range(nb_cups - 1):\n",
    "        list_cups += [droite(list_cups[-1], dict_cups)]\n",
    "    return list_cups"
   ]
  },
  {
   "cell_type": "code",
   "execution_count": 11,
   "metadata": {},
   "outputs": [],
   "source": [
    "def take3cups(current, cups):\n",
    "    tercet = dict2list(cups, current, 4)[1:]\n",
    "    cups[current] = [cups[tercet[2]][0], cups[current][1]]\n",
    "    return (cups, tercet)"
   ]
  },
  {
   "cell_type": "code",
   "execution_count": 12,
   "metadata": {},
   "outputs": [],
   "source": [
    "def update_previous(cups, forbidden, nmax):\n",
    "    to_be_changed = [n%nmax + 1 for n in forbidden]\n",
    "    previous = [moins1(n, nmax) for n in forbidden]\n",
    "    for n in range(len(to_be_changed)):\n",
    "        while previous[n] in forbidden:\n",
    "            previous[n] = moins1(previous[n], nmax)\n",
    "        cups[to_be_changed[n]] = [cups[to_be_changed[n]][0], previous[n]]\n",
    "    return cups"
   ]
  },
  {
   "cell_type": "code",
   "execution_count": 13,
   "metadata": {
    "scrolled": true
   },
   "outputs": [
    {
     "name": "stdout",
     "output_type": "stream",
     "text": [
      "-- move 1\n",
      "[9, 6, 2, 7, 1, 3, 8, 5, 4]\n",
      "--- 0.9709103107452393 seconds ---\n",
      "-- 0 --\n",
      "-- 300000 --\n",
      "-- 600000 --\n",
      "-- 900000 --\n",
      "-- 1200000 --\n",
      "-- 1500000 --\n",
      "-- 1800000 --\n",
      "-- 2100000 --\n",
      "-- 2400000 --\n",
      "-- 2700000 --\n",
      "-- 3000000 --\n",
      "-- 3300000 --\n",
      "-- 3600000 --\n",
      "-- 3900000 --\n",
      "-- 4200000 --\n",
      "-- 4500000 --\n",
      "-- 4800000 --\n",
      "-- 5100000 --\n",
      "-- 5400000 --\n",
      "-- 5700000 --\n",
      "-- 6000000 --\n",
      "-- 6300000 --\n",
      "-- 6600000 --\n",
      "-- 6900000 --\n",
      "-- 7200000 --\n",
      "-- 7500000 --\n",
      "-- 7800000 --\n",
      "-- 8100000 --\n",
      "-- 8400000 --\n",
      "-- 8700000 --\n",
      "-- 9000000 --\n",
      "-- 9300000 --\n",
      "-- 9600000 --\n",
      "-- 9900000 --\n",
      "--- 92.52961254119873 seconds ---\n"
     ]
    }
   ],
   "source": [
    "import time\n",
    "start_time = time.time()\n",
    "\n",
    "cups = list2dict([int(x) for x in puzzle_input]  + [n for n in range(10, ncups + 1)])\n",
    "print(f'-- move {1}')\n",
    "print([int(x) for x in puzzle_input])\n",
    "\n",
    "print(\"--- %s seconds ---\" % (time.time() - start_time))\n",
    "start_time = time.time()\n",
    "\n",
    "current = int(puzzle_input[0])\n",
    "for n in range(nrounds):\n",
    "    # Prendre les 3 tasses suivantes\n",
    "    (cups, tercet) = take3cups(current, cups)\n",
    "    # Mettre à jour ce que signifie \"moins 1\" une fois les 3 tasses interdites\n",
    "    cups = update_previous(cups, tercet, ncups)\n",
    "    # Définir le lieu où replacer les 3 tasses\n",
    "    left = cups[current][1]\n",
    "    right = droite(left, cups)\n",
    "    # Replacer le tercet\n",
    "    cups[left] = [tercet[0], cups[left][1]]\n",
    "    cups[tercet[2]] = [right, cups[tercet[2]][1]]\n",
    "    # Redéfinir tous les précédents, sans interdiction\n",
    "    for c in tercet:\n",
    "        c1 = suivant(c, ncups)\n",
    "        cups[c1] = [cups[c1][0], moins1(c1, ncups)]\n",
    "    # Définir la nouvelle tasse courante\n",
    "    current = cups[current][0]\n",
    "    \n",
    "    if (n%300000 == 0):\n",
    "        print(f'-- {n} --')\n",
    "\n",
    "print(\"--- %s seconds ---\" % (time.time() - start_time))"
   ]
  },
  {
   "cell_type": "code",
   "execution_count": 14,
   "metadata": {},
   "outputs": [
    {
     "data": {
      "text/plain": [
       "287230227046"
      ]
     },
     "execution_count": 14,
     "metadata": {},
     "output_type": "execute_result"
    }
   ],
   "source": [
    "cups[1][0] * cups[cups[1][0]][0]"
   ]
  },
  {
   "cell_type": "markdown",
   "metadata": {},
   "source": [
    "## --- Day 24: Lobby Layout ---\n",
    "Your raft makes it to the tropical island; it turns out that the small crab was an excellent navigator. You make your way to the resort.\n",
    "\n",
    "As you enter the lobby, you discover a small problem: the floor is being renovated. You can't even reach the check-in desk until they've finished installing the new tile floor.\n",
    "\n",
    "The tiles are all **hexagonal**; they need to be arranged in a **hex grid** with a very specific color pattern. Not in the mood to wait, you offer to help figure out the pattern.\n",
    "\n",
    "The tiles are all white on one side and black on the other. They **start with the white side facing up**. The lobby is large enough to fit whatever pattern might need to appear there.\n",
    "\n",
    "A member of the renovation crew gives you a **list of the tiles that need to be flipped over** (your puzzle input). Each line in the list identifies a single tile that needs to be flipped by giving a **series of steps starting from a reference tile** in the very center of the room. (Every line starts from the same reference tile.)\n",
    "\n",
    "Because the tiles are hexagonal, every tile has six neighbors: **east, southeast, southwest, west, northwest, and northeast**. These directions are given in your list, respectively, as **e, se, sw, w, nw, and ne**. A tile is identified by a series of these directions with no delimiters; for example, esenee identifies the tile you land on if you start at the reference tile and then move one tile east, one tile southeast, one tile northeast, and one tile east.\n",
    "\n",
    "**Each time a tile is identified, it flips** from white to black or from black to white. Tiles might be flipped more than once. \n",
    "\n",
    "Go through the renovation crew's list and determine which tiles they need to flip. After all of the instructions have been followed, how many tiles are left with the black side up?"
   ]
  },
  {
   "cell_type": "code",
   "execution_count": 1,
   "metadata": {},
   "outputs": [],
   "source": [
    "with open('input-day24.txt', 'r') as fic:\n",
    "    tiles = fic.read().strip('\\n').split('\\n')"
   ]
  },
  {
   "cell_type": "code",
   "execution_count": 2,
   "metadata": {},
   "outputs": [],
   "source": [
    "def extract_path(tile):\n",
    "    path = []\n",
    "    while len(tile) > 0:\n",
    "        if tile[0] in ['s', 'n']:\n",
    "            path += [tile[:2]]\n",
    "            tile = tile[2:]\n",
    "        else:\n",
    "            path += [tile[:1]]\n",
    "            tile = tile[1:]\n",
    "    return path"
   ]
  },
  {
   "cell_type": "code",
   "execution_count": 3,
   "metadata": {},
   "outputs": [],
   "source": [
    "def move(position: tuple, direction: str):\n",
    "    if direction == 'e':\n",
    "        return (position[0] + 2, position[1])\n",
    "    elif direction == 'se':\n",
    "        return (position[0] + 1, position[1] - 1)\n",
    "    elif direction == 'sw':\n",
    "        return (position[0] - 1, position[1] - 1)\n",
    "    elif direction == 'w':\n",
    "        return (position[0] - 2, position[1])\n",
    "    elif direction == 'nw':\n",
    "        return (position[0] - 1, position[1] + 1)\n",
    "    elif direction == 'ne':\n",
    "        return (position[0] + 1, position[1] + 1)\n",
    "    else:\n",
    "        raise Exception('Direction non found')"
   ]
  },
  {
   "cell_type": "code",
   "execution_count": 4,
   "metadata": {},
   "outputs": [],
   "source": [
    "def move_to_tile(path: list, position=(0, 0)):\n",
    "    for p in path:\n",
    "        position = move(position, p)\n",
    "    return position"
   ]
  },
  {
   "cell_type": "code",
   "execution_count": 5,
   "metadata": {},
   "outputs": [],
   "source": [
    "# Pavement = dictionnaire de positions, indiquant la couleur (True = black / False = White)\n",
    "\n",
    "def turn_tile(position, pavement):\n",
    "    if position in pavement:\n",
    "        pavement[position] = not pavement[position]\n",
    "    else:\n",
    "        pavement[position] = True\n",
    "    return pavement"
   ]
  },
  {
   "cell_type": "code",
   "execution_count": 6,
   "metadata": {},
   "outputs": [],
   "source": [
    "pathes = [extract_path(tile) for tile in tiles]\n",
    "lobby = {(0, 0): False}\n",
    "for p in pathes:\n",
    "    lobby = turn_tile(move_to_tile(p), lobby)"
   ]
  },
  {
   "cell_type": "code",
   "execution_count": 7,
   "metadata": {},
   "outputs": [
    {
     "data": {
      "text/plain": [
       "424"
      ]
     },
     "execution_count": 7,
     "metadata": {},
     "output_type": "execute_result"
    }
   ],
   "source": [
    "sum(list(lobby.values()))"
   ]
  },
  {
   "cell_type": "markdown",
   "metadata": {},
   "source": [
    "### --- Part Two ---\n",
    "The tile floor in the lobby is meant to be a living art exhibit. Every day, the tiles are all flipped according to the following rules:\n",
    "\n",
    "* Any **black tile** with **zero or more than 2 black** tiles immediately adjacent to it is flipped to white.\n",
    "* Any **white tile** with **exactly 2 black tiles** immediately adjacent to it is flipped to black.\n",
    "\n",
    "Here, tiles immediately adjacent means the six tiles directly touching the tile in question.\n",
    "\n",
    "The rules are applied **simultaneously** to every tile; put another way, it is first determined which tiles need to be flipped, then they are all flipped at the same time.\n",
    "\n",
    "How many tiles will be black after 100 days?"
   ]
  },
  {
   "cell_type": "code",
   "execution_count": 8,
   "metadata": {},
   "outputs": [],
   "source": [
    "def neighbours(tile: tuple):\n",
    "    return [\n",
    "        (tile[0] + 2, tile[1]), (tile[0] + 1, tile[1] - 1), (tile[0] - 1, tile[1] - 1), \n",
    "        (tile[0] - 2, tile[1]), (tile[0] - 1, tile[1] + 1), (tile[0] + 1, tile[1] + 1)]"
   ]
  },
  {
   "cell_type": "code",
   "execution_count": 9,
   "metadata": {},
   "outputs": [],
   "source": [
    "def nb_blacks(tile, pavement):\n",
    "    nb = 0\n",
    "    for neighbour in neighbours(tile):\n",
    "        if neighbour in pavement:\n",
    "            nb += pavement[neighbour]\n",
    "    return nb"
   ]
  },
  {
   "cell_type": "code",
   "execution_count": 10,
   "metadata": {},
   "outputs": [],
   "source": [
    "def enlarge_your_pavement(pavement):\n",
    "    enlarged = pavement.copy()\n",
    "    for tile in pavement:\n",
    "        for adjacent in neighbours(tile):\n",
    "            if adjacent not in enlarged:\n",
    "                enlarged[adjacent] = False\n",
    "    return enlarged"
   ]
  },
  {
   "cell_type": "code",
   "execution_count": 11,
   "metadata": {},
   "outputs": [],
   "source": [
    "def flip_all(pavement):\n",
    "    enlarged = enlarge_your_pavement(pavement)\n",
    "    new_pavement = enlarged.copy()\n",
    "    counts = {tile: nb_blacks(tile, enlarged) for tile in enlarged}\n",
    "    for tile in enlarged:\n",
    "        if enlarged[tile]:\n",
    "            if (counts[tile] == 0) | (counts[tile] > 2):\n",
    "                new_pavement[tile] = False\n",
    "        else:\n",
    "            if (counts[tile] == 2):\n",
    "                new_pavement[tile] = True\n",
    "    return new_pavement"
   ]
  },
  {
   "cell_type": "code",
   "execution_count": 12,
   "metadata": {},
   "outputs": [],
   "source": [
    "previous_lobby = lobby.copy()\n",
    "\n",
    "for n in range(100):\n",
    "    next_lobby = flip_all(previous_lobby)\n",
    "    previous_lobby = next_lobby"
   ]
  },
  {
   "cell_type": "code",
   "execution_count": 13,
   "metadata": {},
   "outputs": [
    {
     "data": {
      "text/plain": [
       "3737"
      ]
     },
     "execution_count": 13,
     "metadata": {},
     "output_type": "execute_result"
    }
   ],
   "source": [
    "sum(list(next_lobby.values()))"
   ]
  },
  {
   "cell_type": "markdown",
   "metadata": {},
   "source": [
    "## --- Day 25: Combo Breaker ---\n",
    "\n",
    "Unfortunately for the door, you know a thing or two about cryptographic handshakes.\n",
    "\n",
    "The handshake used by the card and the door involves an operation that **transforms a subject number**. To transform a subject number, start with the **value 1**. Then, a number of times called the **loop size**, perform the following steps:\n",
    "\n",
    "* Set the value to **itself multiplied by the subject number**.\n",
    "* Set the value to **the remainder after dividing the value by 20201227**.\n",
    "\n",
    "The card always uses a specific, secret loop size when it transforms a subject number. The door always uses a different, secret loop size.\n",
    "\n",
    "The cryptographic handshake works like this:\n",
    "\n",
    "* The **card** transforms the subject number of **7** according to the **card's secret loop size**. The result is called the **card's public key**.\n",
    "* The **door** transforms the subject number of **7** according to the **door's secret loop size**. The result is called the **door's public key**.\n",
    "* The card and door use the wireless RFID signal to **transmit the two public keys (your puzzle input)** to the other device. Now, the card has the door's public key, and the door has the card's public key. Because you can eavesdrop on the signal, you have both public keys, but neither device's loop size.\n",
    "* The **card** transforms the **subject number of the door's public key** according to the **card's loop size**. The result is the encryption key.\n",
    "* The **door** transforms the **subject number of the card's public key** according to the **door's loop size**. The result is the same encryption key as the card calculated.\n",
    "\n",
    "If you can use the two public keys to determine each device's loop size, you will have enough information to calculate the secret encryption key that the card and door use to communicate; this would let you send the unlock command directly to the door!\n",
    "\n",
    "What encryption key is the handshake trying to establish?"
   ]
  },
  {
   "cell_type": "code",
   "execution_count": 1,
   "metadata": {},
   "outputs": [],
   "source": [
    "def transform_subject(subject, loops_size):\n",
    "    value = 1\n",
    "    for n in range(loops_size):\n",
    "        value *= subject\n",
    "        value = value % 20201227\n",
    "    return value"
   ]
  },
  {
   "cell_type": "code",
   "execution_count": 2,
   "metadata": {},
   "outputs": [],
   "source": [
    "card_public_key = 10604480\n",
    "door_public_key = 4126658"
   ]
  },
  {
   "cell_type": "code",
   "execution_count": 3,
   "metadata": {},
   "outputs": [],
   "source": [
    "def find_loop_size(subject, public_key):\n",
    "    value = 1\n",
    "    loop_size = 0\n",
    "    while value != public_key:\n",
    "        loop_size += 1\n",
    "        value *= subject\n",
    "        value = value % 20201227\n",
    "    return loop_size"
   ]
  },
  {
   "cell_type": "code",
   "execution_count": 4,
   "metadata": {},
   "outputs": [
    {
     "data": {
      "text/plain": [
       "1568743"
      ]
     },
     "execution_count": 4,
     "metadata": {},
     "output_type": "execute_result"
    }
   ],
   "source": [
    "card_loop_size = find_loop_size(7, card_public_key)\n",
    "card_loop_size"
   ]
  },
  {
   "cell_type": "code",
   "execution_count": 5,
   "metadata": {},
   "outputs": [
    {
     "data": {
      "text/plain": [
       "9709101"
      ]
     },
     "execution_count": 5,
     "metadata": {},
     "output_type": "execute_result"
    }
   ],
   "source": [
    "door_loop_size = find_loop_size(7, door_public_key)\n",
    "door_loop_size"
   ]
  },
  {
   "cell_type": "code",
   "execution_count": 6,
   "metadata": {},
   "outputs": [
    {
     "data": {
      "text/plain": [
       "4968512"
      ]
     },
     "execution_count": 6,
     "metadata": {},
     "output_type": "execute_result"
    }
   ],
   "source": [
    "transform_subject(card_public_key, door_loop_size)"
   ]
  },
  {
   "cell_type": "code",
   "execution_count": 7,
   "metadata": {},
   "outputs": [
    {
     "data": {
      "text/plain": [
       "4968512"
      ]
     },
     "execution_count": 7,
     "metadata": {},
     "output_type": "execute_result"
    }
   ],
   "source": [
    "transform_subject(door_public_key, card_loop_size)"
   ]
  },
  {
   "cell_type": "code",
   "execution_count": null,
   "metadata": {},
   "outputs": [],
   "source": []
  }
 ],
 "metadata": {
  "kernelspec": {
   "display_name": "Python 3",
   "language": "python",
   "name": "python3"
  },
  "language_info": {
   "codemirror_mode": {
    "name": "ipython",
    "version": 3
   },
   "file_extension": ".py",
   "mimetype": "text/x-python",
   "name": "python",
   "nbconvert_exporter": "python",
   "pygments_lexer": "ipython3",
   "version": "3.8.5"
  }
 },
 "nbformat": 4,
 "nbformat_minor": 4
}
