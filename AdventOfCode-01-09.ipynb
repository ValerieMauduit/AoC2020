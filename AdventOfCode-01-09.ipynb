{
 "cells": [
  {
   "cell_type": "code",
   "execution_count": 1,
   "metadata": {},
   "outputs": [],
   "source": [
    "import time\n",
    "import pandas as pd\n",
    "import json"
   ]
  },
  {
   "cell_type": "markdown",
   "metadata": {},
   "source": [
    "## --- Day 1: Report Repair ---\n",
    "After saving Christmas five years in a row, you've decided to take a vacation at a nice resort on a tropical island. Surely, Christmas will go on without you.\n",
    "\n",
    "The tropical island has its own currency and is entirely cash-only. The gold coins used there have a little picture of a starfish; the locals just call them **stars**. None of the currency exchanges seem to have heard of them, but somehow, you'll need to find **fifty of these coins** by the time you arrive so you can pay the deposit on your room.\n",
    "\n",
    "To save your vacation, you need to get all fifty stars by December 25th.\n",
    "\n",
    "**Collect stars by solving puzzles.** Two puzzles will be made available on each day in the Advent calendar; the second puzzle is unlocked when you complete the first. Each puzzle grants one star. Good luck!\n",
    "\n",
    "Before you leave, the Elves in accounting just need you to fix your expense report (your puzzle input); apparently, something isn't quite adding up.\n",
    "\n",
    "Specifically, they need you to find **the two entries that sum to 2020 and then multiply those two numbers together**.\n",
    "\n",
    "Of course, your expense report is much larger. Find the two entries that sum to 2020; what do you get if you multiply them together?"
   ]
  },
  {
   "cell_type": "code",
   "execution_count": 2,
   "metadata": {},
   "outputs": [
    {
     "name": "stdout",
     "output_type": "stream",
     "text": [
      "a = 1387, b = 633 and year = 2020\n",
      "877971\n",
      "Spent time: 0.005 s\n"
     ]
    }
   ],
   "source": [
    "start_time = time.time()\n",
    "\n",
    "expense = pd.read_csv('input-files/input-day01.txt', header=None)\n",
    "expense_list = expense[0].tolist()\n",
    "\n",
    "n = 0\n",
    "for a in expense_list:\n",
    "    for b in expense_list[(n + 1):]:\n",
    "        year = a + b\n",
    "        if year == 2020:\n",
    "            print(f'a = {a}, b = {b} and year = {year}')\n",
    "            print(a * b)\n",
    "    n += 1\n",
    "\n",
    "spent_time = time.time() - start_time\n",
    "print(f'Spent time: {spent_time:.3f} s')"
   ]
  },
  {
   "cell_type": "markdown",
   "metadata": {},
   "source": [
    "### --- Part Two ---\n",
    "The Elves in accounting are thankful for your help; one of them even offers you a starfish coin they had left over from a past vacation. They offer you a second one if you can **find three numbers in your expense report that meet the same criteria**.\n",
    "\n",
    "Using the above example again, the three entries that sum to 2020 are 979, 366, and 675. Multiplying them together produces the answer, 241861950.\n",
    "\n",
    "In your expense report, what is the product of the three entries that sum to 2020?"
   ]
  },
  {
   "cell_type": "code",
   "execution_count": 3,
   "metadata": {},
   "outputs": [
    {
     "name": "stdout",
     "output_type": "stream",
     "text": [
      "a = 867, b = 264, c = 889 and year = 2020\n",
      "203481432\n",
      "Spent time: 0.210 s\n"
     ]
    }
   ],
   "source": [
    "start_time = time.time()\n",
    "\n",
    "n = 0\n",
    "for a in expense_list:\n",
    "    p = 1\n",
    "    for b in expense_list[(n + 1):]:\n",
    "        for c in expense_list[(n + p + 1):]:\n",
    "            year = a + b + c\n",
    "            if year == 2020:\n",
    "                print(f'a = {a}, b = {b}, c = {c} and year = {year}')\n",
    "                print(a * b * c)\n",
    "        p += 1\n",
    "    n += 1\n",
    "\n",
    "spent_time = time.time() - start_time\n",
    "print(f'Spent time: {spent_time:.3f} s')"
   ]
  },
  {
   "cell_type": "markdown",
   "metadata": {},
   "source": [
    "## --- Day 2: Password Philosophy ---\n",
    "Your flight departs in a few days from the coastal airport; the easiest way down to the coast from here is via toboggan.\n",
    "The shopkeeper at the North Pole Toboggan Rental Shop is having a bad day. \"Something's wrong with our computers; we can't log in!\" You ask if you can take a look.\n",
    "\n",
    "Their password database seems to be a little corrupted: **some of the passwords wouldn't have been allowed** by the Official Toboggan Corporate Policy that was in effect when they were chosen.\n",
    "\n",
    "To try to debug the problem, they have created **a list (your puzzle input) of passwords** (according to the corrupted database) and **the corporate policy when that password was set**.\n",
    "\n",
    "Each line gives the password policy and then the password. The password policy indicates **the lowest and highest number of times a given letter must appear** for the password to be valid. For example, 1-3 a means that the password must contain a at least 1 time and at most 3 times.\n",
    "\n",
    "How many passwords are valid according to their policies?"
   ]
  },
  {
   "cell_type": "code",
   "execution_count": 4,
   "metadata": {},
   "outputs": [],
   "source": [
    "def check(password, letter, mini, maxi):\n",
    "    nb = password.count(letter)\n",
    "    return ((nb >= mini) & (nb <= maxi))"
   ]
  },
  {
   "cell_type": "code",
   "execution_count": 5,
   "metadata": {},
   "outputs": [
    {
     "name": "stdout",
     "output_type": "stream",
     "text": [
      "564\n",
      "Spent time: 0.059 s\n"
     ]
    }
   ],
   "source": [
    "start_time = time.time()\n",
    "\n",
    "pswd = pd.read_csv('input-files/input-day02.txt', header=None, sep=':')\n",
    "pswd.columns = ['policy', 'password']\n",
    "\n",
    "pswd[['values', 'letter']] = pswd['policy'].str.split(' ', expand=True)\n",
    "pswd[['min', 'max']] = pswd['values'].str.split('-', expand=True).astype(int)\n",
    "pswd = pswd[['password', 'letter', 'min', 'max']]\n",
    "\n",
    "pswd['check'] = pswd.apply(lambda x: check(x['password'], x['letter'], x['min'], x['max']), axis=1)\n",
    "\n",
    "print(pswd['check'].sum())\n",
    "\n",
    "spent_time = time.time() - start_time\n",
    "print(f'Spent time: {spent_time:.3f} s')"
   ]
  },
  {
   "cell_type": "markdown",
   "metadata": {},
   "source": [
    "### --- Part Two ---\n",
    "While it appears you validated the passwords correctly, they don't seem to be what the Official Toboggan Corporate Authentication System is expecting.\n",
    "The shopkeeper suddenly realizes that he just accidentally explained the password policy rules from his old job at the sled rental place down the street! The Official Toboggan Corporate Policy actually works a little differently.\n",
    "\n",
    "Each policy actually **describes two positions in the password**, where 1 means the first character, 2 means the second character, and so on. (Be careful; Toboggan Corporate Policies have *no concept of \"index zero\"!*) **Exactly one of these positions must contain the given letter.** Other occurrences of the letter are irrelevant for the purposes of policy enforcement.\n",
    "\n",
    "Given the same example list from above:\n",
    "\n",
    "**How many passwords are valid** according to the new interpretation of the policies?"
   ]
  },
  {
   "cell_type": "code",
   "execution_count": 6,
   "metadata": {},
   "outputs": [],
   "source": [
    "def get_letter(word, position):\n",
    "    return word[position]"
   ]
  },
  {
   "cell_type": "code",
   "execution_count": 7,
   "metadata": {
    "scrolled": true
   },
   "outputs": [
    {
     "name": "stdout",
     "output_type": "stream",
     "text": [
      "325\n",
      "Spent time: 0.068 s\n"
     ]
    }
   ],
   "source": [
    "start_time = time.time()\n",
    "\n",
    "pswd['l1'] = pswd.apply(lambda x: get_letter(x['password'], x['min']), axis=1)\n",
    "pswd['l2'] = pswd.apply(lambda x: get_letter(x['password'], x['max']), axis=1)\n",
    "pswd['check new'] = (pswd['l1'] == pswd['letter']) ^ (pswd['l2'] == pswd['letter'])\n",
    "\n",
    "print(pswd['check new'].sum())\n",
    "\n",
    "spent_time = time.time() - start_time\n",
    "print(f'Spent time: {spent_time:.3f} s')"
   ]
  },
  {
   "cell_type": "markdown",
   "metadata": {},
   "source": [
    "## --- Day 3: Toboggan Trajectory ---\n",
    "With the toboggan login problems resolved, you set off toward the airport. While travel by toboggan might be easy, it's certainly not safe: there's very minimal steering and the area is covered in trees. You'll need to see which angles will take you near the fewest trees.\n",
    "\n",
    "Due to the local geology, trees in this area only grow on exact integer coordinates in a grid. You make a map (your puzzle input) of **the open squares (.) and trees (#)** you can see.\n",
    "These aren't the only trees, though; due to something you read about once involving arboreal genetics and biome stability, the same pattern repeats to the right many times\n",
    "\n",
    "You start on the open square (.) in the top-left corner and need to reach the bottom (below the bottom-most row on your map).\n",
    "\n",
    "The toboggan can only follow a few specific slopes (you opted for a cheaper model that prefers rational numbers); start by counting all the trees you would encounter for the slope **right 3, down 1**\n",
    "From your starting position at the top-left, check the position that is right 3 and down 1. Then, check the position that is right 3 and down 1 from there, and so on until you go past the bottom of the map.\n",
    "\n",
    "Starting at the top-left corner of your map and following a slope of right 3 and down 1, **how many trees would you encounter?**"
   ]
  },
  {
   "cell_type": "code",
   "execution_count": 8,
   "metadata": {},
   "outputs": [],
   "source": [
    "def count_trees(mapping, right, down):\n",
    "    nb_trees = 0\n",
    "    height = len(mapping)\n",
    "    width = len(mapping[0])\n",
    "    col = 0\n",
    "    for lig in range(0, height, down):\n",
    "        if tree_map[lig][col] == '#':\n",
    "            nb_trees += 1\n",
    "        col += right\n",
    "        if col >= width:\n",
    "            col -= width\n",
    "    return nb_trees"
   ]
  },
  {
   "cell_type": "code",
   "execution_count": 9,
   "metadata": {},
   "outputs": [
    {
     "name": "stdout",
     "output_type": "stream",
     "text": [
      "205\n",
      "Spent time: 0.001 s\n"
     ]
    }
   ],
   "source": [
    "start_time = time.time()\n",
    "\n",
    "with open('input-files/input-day03.txt', 'r') as fic:\n",
    "    tempo = fic.readlines()\n",
    "    tree_map = [x.rstrip('\\n') for x in tempo]\n",
    "\n",
    "print(count_trees(tree_map, 3, 1))\n",
    "\n",
    "spent_time = time.time() - start_time\n",
    "print(f'Spent time: {spent_time:.3f} s')"
   ]
  },
  {
   "cell_type": "markdown",
   "metadata": {},
   "source": [
    "### --- Part Two ---\n",
    "Time to check the rest of the slopes - you need to minimize the probability of a sudden arboreal stop, after all.\n",
    "\n",
    "Determine the number of trees you would encounter if, for each of the following slopes, you start at the top-left corner and traverse the map all the way to the bottom:\n",
    "\n",
    "- Right 1, down 1.\n",
    "- Right 3, down 1. (This is the slope you already checked.)\n",
    "- Right 5, down 1.\n",
    "- Right 7, down 1.\n",
    "- Right 1, down 2.\n",
    "\n",
    "**What do you get if you multiply together the number of trees encountered on each of the listed slopes?**"
   ]
  },
  {
   "cell_type": "code",
   "execution_count": 10,
   "metadata": {},
   "outputs": [
    {
     "name": "stdout",
     "output_type": "stream",
     "text": [
      "3952146825\n",
      "Spent time: 0.001086 s\n"
     ]
    }
   ],
   "source": [
    "start_time = time.time()\n",
    "\n",
    "print(\n",
    "    count_trees(tree_map, 1, 1) * count_trees(tree_map, 3, 1) * count_trees(tree_map, 5, 1) * \n",
    "    count_trees(tree_map, 7, 1) * count_trees(tree_map, 1, 2)\n",
    ")\n",
    "\n",
    "spent_time = time.time() - start_time\n",
    "print(f'Spent time: {spent_time:.6f} s')"
   ]
  },
  {
   "cell_type": "markdown",
   "metadata": {},
   "source": [
    "## --- Day 4: Passport Processing ---\n",
    "You arrive at the airport only to realize that you grabbed your North Pole Credentials instead of your passport. While these documents are extremely similar, North Pole Credentials aren't issued by a country and therefore aren't actually valid documentation for travel in most of the world.\n",
    "\n",
    "It seems like you're not the only one having problems, though; a very long line has formed for the automatic passport scanners, and the delay could upset your travel itinerary.\n",
    "\n",
    "Due to some questionable network security, you realize you might be able to solve both of these problems at the same time.\n",
    "\n",
    "The automatic passport scanners are slow because they're having trouble detecting which passports have all required fields. The expected fields are as follows:\n",
    "\n",
    "* byr (Birth Year)\n",
    "* iyr (Issue Year)\n",
    "* eyr (Expiration Year)\n",
    "* hgt (Height)\n",
    "* hcl (Hair Color)\n",
    "* ecl (Eye Color)\n",
    "* pid (Passport ID)\n",
    "* cid (Country ID)\n",
    "\n",
    "Passport data is validated in batch files (your puzzle input). Each passport is represented as a sequence of key:value pairs separated by spaces or newlines. Passports are separated by blank lines.\n",
    "\n",
    "**Missing cid is fine, but missing any other field is not, so this passport is invalid.**\n",
    "\n",
    "According to the above rules, your improved system would report 2 valid passports.\n",
    "\n",
    "**Count the number of valid passports** - those that have **all required fields**. Treat **cid as optional**. In your batch file, how many passports are valid?"
   ]
  },
  {
   "cell_type": "code",
   "execution_count": 11,
   "metadata": {},
   "outputs": [
    {
     "name": "stdout",
     "output_type": "stream",
     "text": [
      "222\n",
      "Spent time: 0.106 s\n"
     ]
    }
   ],
   "source": [
    "start_time = time.time()\n",
    "\n",
    "with open('input-files/input-day04.txt', 'r') as fic:\n",
    "    tempo = fic.read()\n",
    "    tempo = tempo.split('\\n\\n')\n",
    "\n",
    "ids = pd.DataFrame([x.replace('\\n', ' ').replace(' ', ', ')  for x in tempo], columns=['Id'])\n",
    "\n",
    "ids[[f'val{n}' for n in range(8)]] = ids['Id'].str.split(', ', expand=True)\n",
    "\n",
    "fields = ['byr', 'iyr', 'eyr', 'hgt', 'hcl', 'ecl', 'pid']\n",
    "for field in fields:\n",
    "    ids[field] = 0\n",
    "\n",
    "for idcol in fields:\n",
    "    for nkey in range(8):\n",
    "        ids[f'{idcol}_{nkey}' ] = ids[f'val{nkey}'].str.startswith(idcol) + 0\n",
    "ids.fillna(0, inplace=True)\n",
    "\n",
    "print(((ids[[f'{idcol}_{nkey}' for idcol in fields for nkey in range(8)]].sum(axis=1)) == 7).sum())\n",
    "\n",
    "spent_time = time.time() - start_time\n",
    "print(f'Spent time: {spent_time:.3f} s')"
   ]
  },
  {
   "cell_type": "markdown",
   "metadata": {},
   "source": [
    "### --- Part Two ---\n",
    "The line is moving more quickly now, but you overhear airport security talking about how passports with invalid data are getting through. Better add some data validation, quick!\n",
    "\n",
    "You can continue to ignore the cid field, but each other field has strict rules about what values are valid for automatic validation:\n",
    "\n",
    "* byr (Birth Year) - four digits; at least 1920 and at most 2002.\n",
    "* iyr (Issue Year) - four digits; at least 2010 and at most 2020.\n",
    "* eyr (Expiration Year) - four digits; at least 2020 and at most 2030.\n",
    "* hgt (Height) - a number followed by either cm or in:\n",
    "  * If cm, the number must be at least 150 and at most 193.\n",
    "  * If in, the number must be at least 59 and at most 76.\n",
    "* hcl (Hair Color) - a # followed by exactly six characters 0-9 or a-f.\n",
    "* ecl (Eye Color) - exactly one of: amb blu brn gry grn hzl oth.\n",
    "* pid (Passport ID) - a nine-digit number, including leading zeroes.\n",
    "* cid (Country ID) - ignored, missing or not.\n",
    "\n",
    "Your job is to count the passports where **all required fields are both present and valid** according to the above rules."
   ]
  },
  {
   "cell_type": "code",
   "execution_count": 12,
   "metadata": {},
   "outputs": [],
   "source": [
    "def check_hgt(value):\n",
    "    if value.endswith('cm'):\n",
    "        return ((int(value[:-2]) >= 150) & (int(value[:-2]) <= 193)) \n",
    "    if value.endswith('in'):\n",
    "        return ((int(value[:-2]) >= 59) & (int(value[:-2]) <= 76)) \n",
    "    return False"
   ]
  },
  {
   "cell_type": "code",
   "execution_count": 13,
   "metadata": {},
   "outputs": [
    {
     "name": "stdout",
     "output_type": "stream",
     "text": [
      "140\n",
      "Spent time: 0.019 s\n"
     ]
    }
   ],
   "source": [
    "start_time = time.time()\n",
    "\n",
    "ids_val = ids.loc[\n",
    "    (ids[[f'{idcol}_{nkey}' for idcol in fields for nkey in range(8)]].sum(axis=1)) == 7,\n",
    "    ['Id'] + [f'val{n}' for n in range(8)]\n",
    "]\n",
    "\n",
    "ids_val['Id'] = ids_val['Id'].str.replace(':', '\": \"')\n",
    "ids_val['Id'] = ids_val['Id'].str.replace(', ', '\", \"')\n",
    "ids_val['Id'] = ids_val['Id'].apply(lambda x: '{\"' + x + '\"}')\n",
    "\n",
    "description = pd.DataFrame([json.loads(x) for x in list(ids_val['Id'])])\n",
    "\n",
    "description['check_ecl'] = description['ecl'].apply(\n",
    "    lambda x: x in ['amb', 'blu', 'brn', 'gry', 'grn', 'hzl', 'oth']\n",
    ")\n",
    "description['check_eyr'] = (\n",
    "    (description['eyr'].astype(int) >= 2020) & (description['eyr'].astype(int) <= 2030)\n",
    ")\n",
    "description['check_hgt'] = description['hgt'].apply(check_hgt)\n",
    "description['check_hcl'] = description['hcl'].str.match('^#[0-9a-f]{6}$') \n",
    "description['check_iyr'] = (\n",
    "    (description['iyr'].astype(int) >= 2010) & (description['iyr'].astype(int) <= 2020)\n",
    ")\n",
    "description['check_byr'] = (\n",
    "    (description['byr'].astype(int) >= 1920) & (description['byr'].astype(int) <= 2002)\n",
    ")\n",
    "description['check_pid'] = description['pid'].str.match('^[0-9]{9}$') \n",
    "\n",
    "print((description[[col for col in description.columns if col.startswith('check_')]].sum(axis=1) == 7).sum())\n",
    "\n",
    "spent_time = time.time() - start_time\n",
    "print(f'Spent time: {spent_time:.3f} s')"
   ]
  },
  {
   "cell_type": "markdown",
   "metadata": {},
   "source": [
    "## --- Day 5: Binary Boarding ---\n",
    "You board your plane only to discover a new problem: you dropped your boarding pass! You aren't sure which seat is yours, and all of the flight attendants are busy with the flood of people that suddenly made it through passport control.\n",
    "\n",
    "You write a quick program to use your phone's camera to scan all of the nearby boarding passes (your puzzle input); perhaps you can find your seat through process of elimination.\n",
    "\n",
    "Instead of zones or groups, this airline uses binary space partitioning to seat people. A seat might be specified like FBFBBFFRLR, where **F means \"front\", B means \"back\", L means \"left\", and R means \"right\"**.\n",
    "\n",
    "The **first 7 characters** will either be F or B; these specify exactly **one of the 128 rows** on the plane (numbered **0 through 127**). Each letter tells you which half of a region the given seat is in. Start with the whole list of rows; the first letter indicates whether the seat is in the **front (0 through 63)** or the **back (64 through 127)**. The next letter indicates which half of that region the seat is in, and so on until you're left with exactly one row.\n",
    "\n",
    "The last three characters will be either L or R; these specify exactly one of the **8 columns** of seats on the plane (numbered **0 through 7**). The same process as above proceeds again, this time with only three steps. L means to keep the lower half, while R means to keep the upper half.\n",
    "\n",
    "Every seat also has a unique seat ID: **multiply the row by 8, then add the column**. In this example, the seat has ID 44 * 8 + 5 = 357.\n",
    "\n",
    "As a sanity check, look through your list of boarding passes. What is the **highest seat ID** on a boarding pass?"
   ]
  },
  {
   "cell_type": "code",
   "execution_count": 14,
   "metadata": {},
   "outputs": [],
   "source": [
    "def find_place(text, down, up, minimum=0, maximum=None):\n",
    "    size = len(text)\n",
    "    if maximum == None:\n",
    "        maximum = 2**size - 1\n",
    "    if size == 1:\n",
    "        if text[0] == down:\n",
    "            return minimum\n",
    "        elif text[0] == up:\n",
    "            return maximum\n",
    "        else:\n",
    "            return None\n",
    "    else:\n",
    "        cut = (maximum + minimum + 1) / 2 - 1\n",
    "        if text[0] == down:\n",
    "            return find_place(text[1:], down, up, minimum, cut)\n",
    "        elif text[0] == up:\n",
    "            return find_place(text[1:], down, up, cut + 1, maximum)\n",
    "        else:\n",
    "            return None"
   ]
  },
  {
   "cell_type": "code",
   "execution_count": 15,
   "metadata": {},
   "outputs": [
    {
     "name": "stdout",
     "output_type": "stream",
     "text": [
      "seat_code    FFFFBBBRRR\n",
      "raw                 116\n",
      "col                   7\n",
      "id                  935\n",
      "dtype: object\n",
      "Spent time: 0.015 s\n"
     ]
    }
   ],
   "source": [
    "start_time = time.time()\n",
    "\n",
    "with open('input-files/input-day05.txt', 'r') as fic:\n",
    "    tempo = fic.readlines()\n",
    "    seats = pd.DataFrame([x.strip('\\n')  for x in tempo], columns=['seat_code'])\n",
    "\n",
    "seats['raw'] = seats['seat_code'].apply(lambda x: find_place(x[:-3], 'F', 'B'))\n",
    "seats['col'] = seats['seat_code'].apply(lambda x: find_place(x[-3:], 'L', 'R'))\n",
    "seats['id'] = seats['raw'] * 8 + seats['col']\n",
    "\n",
    "print(seats.max())\n",
    "\n",
    "spent_time = time.time() - start_time\n",
    "print(f'Spent time: {spent_time:.3f} s')"
   ]
  },
  {
   "cell_type": "markdown",
   "metadata": {},
   "source": [
    "### --- Part Two ---\n",
    "Ding! The \"fasten seat belt\" signs have turned on. Time to find your seat.\n",
    "\n",
    "It's a completely full flight, so your seat should be the only missing boarding pass in your list. However, there's a catch: some of the seats at the very front and back of the plane don't exist on this aircraft, so they'll be missing from your list as well.\n",
    "\n",
    "Your seat wasn't at the very front or back, though; **the seats with IDs +1 and -1 from yours will be in your list**.\n",
    "\n",
    "What is the ID of your seat?"
   ]
  },
  {
   "cell_type": "code",
   "execution_count": 16,
   "metadata": {},
   "outputs": [],
   "source": [
    "def find_code(number, down, up, total_length, end=''):\n",
    "    tempo = down * total_length\n",
    "    if number == 0:\n",
    "        fill = down + end\n",
    "        return tempo[:-len(fill)] + fill\n",
    "    elif number == 1:\n",
    "        fill = up + end\n",
    "        return tempo[:-len(fill)] + fill\n",
    "    else:\n",
    "        rest = number % 2\n",
    "        if rest == 0:\n",
    "            return find_code(number // 2, down, up, total_length, down + end)\n",
    "        if rest == 1:\n",
    "            return find_code(number // 2, down, up, total_length, up + end)"
   ]
  },
  {
   "cell_type": "code",
   "execution_count": 17,
   "metadata": {},
   "outputs": [
    {
     "name": "stdout",
     "output_type": "stream",
     "text": [
      "743.0\n",
      "Spent time: 0.006 s\n",
      "BFBBBFFRRR\n"
     ]
    }
   ],
   "source": [
    "start_time = time.time()\n",
    "\n",
    "seats.sort_values(by='id', inplace=True)\n",
    "seats['diffB'] = seats['id'].diff()\n",
    "seats['diffF'] = seats['id'].diff(-1) * -1\n",
    "\n",
    "my_seat = seats.loc[\n",
    "    (seats['raw'] > seats['raw'].min()) & (seats['raw'] < seats['raw'].max()) &\n",
    "    ((seats['diffB'] > 1) | (seats['diffF'] > 1))\n",
    "].copy()\n",
    "\n",
    "my_id = my_seat['id'].mean()\n",
    "print(my_id)\n",
    "\n",
    "spent_time = time.time() - start_time\n",
    "print(f'Spent time: {spent_time:.3f} s')\n",
    "\n",
    "my_col = my_id % 8\n",
    "my_raw = my_id // 8\n",
    "\n",
    "print(find_code(my_raw, 'F', 'B', 7) + find_code(my_col, 'L', 'R', 3))"
   ]
  },
  {
   "cell_type": "markdown",
   "metadata": {},
   "source": [
    "## --- Day 6: Custom Customs ---\n",
    "As your flight approaches the regional airport where you'll switch to a much larger plane, customs declaration forms are distributed to the passengers.\n",
    "\n",
    "The form asks **a series of 26 yes-or-no questions marked a through z**. All you need to do is identify **the questions for which anyone in your group answers \"yes\"**. Since your group is just you, this doesn't take very long.\n",
    "\n",
    "For each group, count the number of questions to which anyone answered \"yes\". What is the sum of those counts?"
   ]
  },
  {
   "cell_type": "code",
   "execution_count": 18,
   "metadata": {},
   "outputs": [
    {
     "name": "stdout",
     "output_type": "stream",
     "text": [
      "7120\n",
      "Spent time: 0.041 s\n"
     ]
    }
   ],
   "source": [
    "start_time = time.time()\n",
    "\n",
    "with open('input-files/input-day06.txt', 'r') as fic:\n",
    "    tempo = fic.read().strip('\\n')\n",
    "    groups = [x.split('\\n') for x in tempo.split('\\n\\n')]\n",
    "    answers = [x.replace('\\n', ' ') for x in tempo.split('\\n\\n')]\n",
    "\n",
    "summary = pd.DataFrame(answers, columns=['global'])\n",
    "\n",
    "for letter in [chr(x) for x in range(ord('a'),ord('z')+1)]:\n",
    "    summary[letter] = (summary['global'].str.contains(letter))\n",
    "\n",
    "summary['sum'] = summary.sum(axis=1)\n",
    "\n",
    "print(summary['sum'].sum())\n",
    "\n",
    "spent_time = time.time() - start_time\n",
    "print(f'Spent time: {spent_time:.3f} s')"
   ]
  },
  {
   "cell_type": "markdown",
   "metadata": {},
   "source": [
    "### --- Part Two ---\n",
    "As you finish the last group's customs declaration, you notice that you misread one word in the instructions:\n",
    "\n",
    "You don't need to identify the questions to which anyone answered \"yes\"; you need to **identify the questions to which everyone answered \"yes\"!**\n",
    "\n",
    "For each group, count the number of questions to which everyone answered \"yes\". What is the sum of those counts?"
   ]
  },
  {
   "cell_type": "code",
   "execution_count": 19,
   "metadata": {},
   "outputs": [],
   "source": [
    "def everyone(group, letter):\n",
    "    return sum([letter in answer for answer in group]) == len(group)   "
   ]
  },
  {
   "cell_type": "code",
   "execution_count": 20,
   "metadata": {},
   "outputs": [
    {
     "name": "stdout",
     "output_type": "stream",
     "text": [
      "3570\n",
      "Spent time: 0.014 s\n"
     ]
    }
   ],
   "source": [
    "start_time = time.time()\n",
    "\n",
    "total = [0 for x in range(len(groups))]\n",
    "for letter in [chr(x) for x in range(ord('a'),ord('z')+1)]:\n",
    "    total = [x + y for x, y in zip(total, [everyone(group, letter) for group in groups])] \n",
    "\n",
    "print(sum(total))\n",
    "\n",
    "spent_time = time.time() - start_time\n",
    "print(f'Spent time: {spent_time:.3f} s')"
   ]
  },
  {
   "cell_type": "markdown",
   "metadata": {},
   "source": [
    "## --- Day 7: Handy Haversacks ---\n",
    "You land at the regional airport in time for your next flight. In fact, it looks like you'll even have time to grab some food: all flights are currently delayed due to issues in luggage processing.\n",
    "\n",
    "Due to recent aviation regulations, many rules (your puzzle input) are being enforced about bags and their contents; bags must be color-coded and must contain specific quantities of other color-coded bags. Apparently, nobody responsible for these regulations considered how long they would take to enforce!\n",
    "\n",
    "You have a **shiny gold bag**. If you wanted to carry it in at least one other bag, how many different bag colors would be valid for the outermost bag? (In other words: how many colors can, eventually, contain at least one shiny gold bag?)\n",
    "\n",
    "So, in this example, the number of bag colors that can eventually contain at least one shiny gold bag is 4.\n",
    "\n",
    "How many bag colors **can eventually contain at least one *shiny gold* bag?** "
   ]
  },
  {
   "cell_type": "code",
   "execution_count": 21,
   "metadata": {},
   "outputs": [],
   "source": [
    "def bag_contains_one_color(rule, colors):\n",
    "    return any([color in rule for color in colors])"
   ]
  },
  {
   "cell_type": "code",
   "execution_count": 22,
   "metadata": {},
   "outputs": [
    {
     "name": "stdout",
     "output_type": "stream",
     "text": [
      "177\n",
      "Spent time: 0.100 s\n"
     ]
    }
   ],
   "source": [
    "start_time = time.time()\n",
    "\n",
    "with open('input-files/input-day07.txt', 'r') as fic:\n",
    "    rules = pd.DataFrame(fic.readlines(), columns=['rule'])\n",
    "\n",
    "rules[['color', 'containing']] = rules['rule'].str.split(' bags contain ', expand=True)\n",
    "\n",
    "ok_bags = list(['shiny gold'])\n",
    "rest_bags = rules.copy()\n",
    "\n",
    "add_bags = [None]\n",
    "while len(add_bags) > 0:\n",
    "    add_bags = list(rest_bags.loc[\n",
    "        rest_bags['containing'].apply(lambda rule: bag_contains_one_color(rule, ok_bags)), \n",
    "        'color'\n",
    "    ])\n",
    "    ok_bags = ok_bags + add_bags\n",
    "    rest_bags = rest_bags.loc[rest_bags['color'].isin(ok_bags) == False]\n",
    "\n",
    "print(len(ok_bags) - 1)\n",
    "\n",
    "spent_time = time.time() - start_time\n",
    "print(f'Spent time: {spent_time:.3f} s')"
   ]
  },
  {
   "cell_type": "markdown",
   "metadata": {},
   "source": [
    "### --- Part Two ---\n",
    "It's getting pretty expensive to fly these days - not because of ticket prices, but because of the ridiculous number of bags you need to buy!\n",
    "\n",
    "Consider again your shiny gold bag and the rules from the above example:\n",
    "\n",
    "faded blue bags contain 0 other bags.\n",
    "dotted black bags contain 0 other bags.\n",
    "vibrant plum bags contain 11 other bags: 5 faded blue bags and 6 dotted black bags.\n",
    "dark olive bags contain 7 other bags: 3 faded blue bags and 4 dotted black bags.\n",
    "So, a single shiny gold bag must contain 1 dark olive bag (and the 7 bags within it) plus 2 vibrant plum bags (and the 11 bags within each of those): 1 + 1*7 + 2 + 2*11 = 32 bags!\n",
    "\n",
    "Of course, the actual rules have a small chance of going several levels deeper than this example; be sure to count all of the bags, even if the nesting becomes topologically impractical!\n",
    "\n",
    "Here's another example:\n",
    "\n",
    "shiny gold bags contain 2 dark red bags.\n",
    "dark red bags contain 2 dark orange bags.\n",
    "dark orange bags contain 2 dark yellow bags.\n",
    "dark yellow bags contain 2 dark green bags.\n",
    "dark green bags contain 2 dark blue bags.\n",
    "dark blue bags contain 2 dark violet bags.\n",
    "dark violet bags contain no other bags.\n",
    "In this example, a single shiny gold bag must contain 126 other bags.\n",
    "\n",
    "How many individual bags are required inside your single shiny gold bag?"
   ]
  },
  {
   "cell_type": "markdown",
   "metadata": {},
   "source": [
    "* no other --> 0\n",
    "* n de couleur \"no other\" + p de couleur \"no other\" --> n + p\n",
    "* q de couleur contenant n --> q * (1 + n * ce qu'il contient)"
   ]
  },
  {
   "cell_type": "code",
   "execution_count": 23,
   "metadata": {},
   "outputs": [],
   "source": [
    "def nb_bags(rule, color):\n",
    "    end = rule.find(color) - 1\n",
    "    start = end - 1\n",
    "    try:\n",
    "        return int(rule[start:end])\n",
    "    except ValueError:\n",
    "        return 0"
   ]
  },
  {
   "cell_type": "code",
   "execution_count": 24,
   "metadata": {},
   "outputs": [],
   "source": [
    "def incremental_containing(color, rules, already_contains=0):\n",
    "    rule = str(rules.loc[rules['color'] == color, 'containing'].values)[2:-4]\n",
    "    if 'no other' in rule:\n",
    "        already_contains\n",
    "    else:\n",
    "        all_colors = list(rules['color'])\n",
    "        for color in all_colors:\n",
    "            nb_color = nb_bags(rule, color)\n",
    "            if nb_color > 0:\n",
    "                local_rule = rules.loc[rules['color'] == color, 'containing']\n",
    "                add = nb_color * incremental_containing(color, rules, 1)\n",
    "                already_contains += add\n",
    "    return already_contains"
   ]
  },
  {
   "cell_type": "code",
   "execution_count": 25,
   "metadata": {},
   "outputs": [
    {
     "name": "stdout",
     "output_type": "stream",
     "text": [
      "34988\n",
      "Spent time: 0.154 s\n"
     ]
    }
   ],
   "source": [
    "start_time = time.time()\n",
    "\n",
    "print(incremental_containing('shiny gold', rules))\n",
    "\n",
    "spent_time = time.time() - start_time\n",
    "print(f'Spent time: {spent_time:.3f} s')"
   ]
  },
  {
   "cell_type": "markdown",
   "metadata": {},
   "source": [
    "## --- Day 8: Handheld Halting ---\n",
    "Your flight to the major airline hub reaches cruising altitude without incident. While you consider checking the in-flight menu for one of those drinks that come with a little umbrella, you are interrupted by the kid sitting next to you.\n",
    "\n",
    "Their handheld game console won't turn on! They ask if you can take a look.\n",
    "\n",
    "You narrow the problem down to a strange infinite loop in the boot code (your puzzle input) of the device. You should be able to fix it, but first you need to be able to run the code in isolation.\n",
    "\n",
    "The boot code is represented as a text file with one instruction per line of text. Each instruction consists of an operation (acc, jmp, or nop) and an argument (a signed number like +4 or -20).\n",
    "\n",
    "* **acc increases or decreases a single global value called the accumulator** by the value given in the argument. For example, acc +7 would increase the accumulator by 7. The accumulator **starts at 0**. After an acc instruction, the **instruction immediately below** it is executed next.\n",
    "* **jmp jumps to a new instruction relative** to itself. The next instruction to execute is found using the argument as an offset from the jmp instruction; for example, jmp +2 would skip the next instruction, jmp +1 would continue to the instruction immediately below it, and jmp -20 would cause the instruction 20 lines above to be executed next.\n",
    "* **nop stands for No OPeration** - it does nothing. The instruction **immediately below** it is executed next.\n",
    "* The moment the program tries to **run any instruction a second time**, you know it will never terminate.\n",
    "\n",
    "Run your copy of the boot code. Immediately before any instruction is executed a second time, what value is in the accumulator?"
   ]
  },
  {
   "cell_type": "code",
   "execution_count": 26,
   "metadata": {},
   "outputs": [],
   "source": [
    "def play(instructions):\n",
    "    [index, acc, condition] = [0, 0, True]\n",
    "    while condition:\n",
    "        instructions.iloc[index, 3] = True\n",
    "        \n",
    "        if instructions.iloc[index]['command'] == 'acc':\n",
    "            acc += instructions.iloc[index]['value']\n",
    "            index += 1\n",
    "        elif instructions.iloc[index]['command'] == 'jmp':\n",
    "            index += instructions.iloc[index]['value']\n",
    "        elif instructions.iloc[index]['command'] == 'nop':\n",
    "            index += 1\n",
    "            \n",
    "        if index >= instructions.shape[0]:\n",
    "            condition = False\n",
    "        elif instructions.iloc[index]['yet']:\n",
    "            condition = False\n",
    "            \n",
    "    return [acc, index]"
   ]
  },
  {
   "cell_type": "code",
   "execution_count": 27,
   "metadata": {},
   "outputs": [
    {
     "name": "stdout",
     "output_type": "stream",
     "text": [
      "[1832, 452]\n",
      "Spent time: 0.156 s\n"
     ]
    }
   ],
   "source": [
    "start_time = time.time()\n",
    "\n",
    "with open('input-files/input-day08.txt', 'r') as fic:\n",
    "    instructions = pd.DataFrame(fic.read().splitlines(), columns=['instruction'])\n",
    "\n",
    "instructions[['command', 'value']] = instructions['instruction'].str.split(expand=True)\n",
    "instructions['value'] = instructions['value'].astype(int)\n",
    "instructions['yet'] = False\n",
    "\n",
    "print(play(instructions))\n",
    "\n",
    "spent_time = time.time() - start_time\n",
    "print(f'Spent time: {spent_time:.3f} s')"
   ]
  },
  {
   "cell_type": "markdown",
   "metadata": {},
   "source": [
    "### --- Part Two ---\n",
    "After some careful analysis, you believe that exactly one instruction is corrupted.\n",
    "\n",
    "Somewhere in the program, either a jmp is supposed to be a nop, or a nop is supposed to be a jmp. (No acc instructions were harmed in the corruption of this boot code.)\n",
    "\n",
    "The program is supposed to terminate by attempting to execute an instruction immediately after the last instruction in the file. **By changing exactly one jmp or nop**, you can repair the boot code and make it terminate correctly.\n",
    "\n",
    "**Fix the program** so that it terminates normally by changing exactly one jmp (to nop) or nop (to jmp). What is the **value of the accumulator** after the program terminates?"
   ]
  },
  {
   "cell_type": "code",
   "execution_count": 28,
   "metadata": {},
   "outputs": [
    {
     "name": "stdout",
     "output_type": "stream",
     "text": [
      "change 359 index jmp to nop\n",
      "at the end (line 626) - acc = 662\n",
      "Spent time: 27.157 s\n"
     ]
    }
   ],
   "source": [
    "start_time = time.time()\n",
    "\n",
    "instructions['yet'] = False\n",
    "\n",
    "length = instructions.shape[0]\n",
    "changed = 0\n",
    "end = 0\n",
    "changing = {'nop': 'jmp', 'jmp': 'nop'}\n",
    "while end < length:\n",
    "    changed_instructions = instructions.copy()\n",
    "    if changed_instructions.iloc[changed, 1] != 'acc':\n",
    "        old = changed_instructions.iloc[changed, 1]\n",
    "        new = changing[old]\n",
    "        changed_instructions.iloc[changed, 1] = new\n",
    "        [acc, end] = play(changed_instructions)\n",
    "    changed += 1\n",
    "\n",
    "print(f'change {changed - 1} index {old} to {new}')\n",
    "print(f'at the end (line {end}) - acc = {acc}')\n",
    "\n",
    "spent_time = time.time() - start_time\n",
    "print(f'Spent time: {spent_time:.3f} s')"
   ]
  },
  {
   "cell_type": "markdown",
   "metadata": {},
   "source": [
    "## --- Day 9: Encoding Error ---\n",
    "With your neighbor happily enjoying their video game, you turn your attention to an open data port on the little screen in the seat in front of you.\n",
    "\n",
    "Though the port is non-standard, you manage to connect it to your computer through the clever use of several paperclips. Upon connection, the port outputs a series of numbers (your puzzle input).\n",
    "\n",
    "The data appears to be encrypted with the **eXchange-Masking Addition System (XMAS)** which, conveniently for you, is an old cypher with an important weakness.\n",
    "\n",
    "XMAS starts by transmitting **a preamble of 25 numbers**. After that, **each number you receive should be the sum of any two of the 25 immediately previous numbers**. The two numbers will have **different values**, and there might be more than one such pair.\n",
    "\n",
    "The first step of attacking the weakness in the XMAS data is to find the **first number** in the list (after the preamble) which is **not the sum of two of the 25 numbers before it**. What is the first number that does not have this property?"
   ]
  },
  {
   "cell_type": "code",
   "execution_count": 29,
   "metadata": {},
   "outputs": [],
   "source": [
    "def valid_number(preamble, number):\n",
    "    return number in set([(x + y) for x in preamble for y in preamble if x != y])"
   ]
  },
  {
   "cell_type": "code",
   "execution_count": 30,
   "metadata": {},
   "outputs": [
    {
     "name": "stdout",
     "output_type": "stream",
     "text": [
      "538\n",
      "[111933636, 87705418, 81082066, 86930092, 91859416, 88233680, 122513638, 135274533, 162423980, 207920006, 111382249, 102802531, 131711038, 108268393, 116729912, 246266476, 142367529, 185367491, 131634216, 134646919, 370343986, 149862429, 195965535, 168012158, 204963592]\n",
      "144381670\n",
      "Spent time: 0.048 s\n"
     ]
    }
   ],
   "source": [
    "start_time = time.time()\n",
    "\n",
    "with open('input-files/input-day09.txt', 'r') as fic:\n",
    "    xmas = [int(x) for x in fic.read().splitlines()]\n",
    "\n",
    "n = 0\n",
    "ok = True\n",
    "while ok:\n",
    "    ok = valid_number([xmas[x] for x in range(n, n + 25)], xmas[n + 25])\n",
    "    n += 1\n",
    "print(n)\n",
    "print([xmas[x] for x in range(n - 1, n + 24)])\n",
    "my_number = xmas[n + 24]\n",
    "print(my_number)\n",
    "\n",
    "spent_time = time.time() - start_time\n",
    "print(f'Spent time: {spent_time:.3f} s')"
   ]
  },
  {
   "cell_type": "markdown",
   "metadata": {},
   "source": [
    "### --- Part Two ---\n",
    "The final step in breaking the XMAS encryption relies on the invalid number you just found: you must find a **contiguous set of *at least* two numbers** in your list which sum to the invalid number from step 1.\n",
    "\n",
    "To find the encryption weakness, **add together the *smallest* and *largest* number in this contiguous range**.\n",
    "\n",
    "What is the encryption weakness in your XMAS-encrypted list of numbers?"
   ]
  },
  {
   "cell_type": "code",
   "execution_count": 31,
   "metadata": {},
   "outputs": [
    {
     "name": "stdout",
     "output_type": "stream",
     "text": [
      "20532569\n",
      "Spent time: 0.559 s\n"
     ]
    }
   ],
   "source": [
    "start_time = time.time()\n",
    "\n",
    "df = pd.DataFrame(xmas, columns=[1])\n",
    "total = 0\n",
    "n = 0\n",
    "while total != my_number:\n",
    "    dfsum = df.iloc[n:].cumsum()\n",
    "    dfsum = dfsum.loc[dfsum[1] <= my_number]\n",
    "    total = dfsum.iloc[-1].values\n",
    "    n += 1\n",
    "\n",
    "adding_numbers = df.iloc[dfsum.index]\n",
    "\n",
    "print((adding_numbers.min() + adding_numbers.max()).values[0])\n",
    "\n",
    "spent_time = time.time() - start_time\n",
    "print(f'Spent time: {spent_time:.3f} s')"
   ]
  }
 ],
 "metadata": {
  "kernelspec": {
   "display_name": "Python 3",
   "language": "python",
   "name": "python3"
  },
  "language_info": {
   "codemirror_mode": {
    "name": "ipython",
    "version": 3
   },
   "file_extension": ".py",
   "mimetype": "text/x-python",
   "name": "python",
   "nbconvert_exporter": "python",
   "pygments_lexer": "ipython3",
   "version": "3.8.5"
  }
 },
 "nbformat": 4,
 "nbformat_minor": 4
}
